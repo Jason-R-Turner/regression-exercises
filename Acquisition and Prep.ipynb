{
 "cells": [
  {
   "cell_type": "markdown",
   "id": "c4ac2777-93b5-442d-9fb4-a739ef220e08",
   "metadata": {},
   "source": [
    "# Acquisition and Prep\n",
    "Goal is to predict the values of single unit properties using the obervations from 2017"
   ]
  },
  {
   "cell_type": "markdown",
   "id": "308d4f4d-d7f0-4412-a564-7ac756204260",
   "metadata": {},
   "source": [
    "1. Acquire bedroomcnt, bathroomcnt, calculatedfinishedsquarefeet, taxvaluedollarcnt, yearbuilt, taxamount, and fips from the zillow database for all 'Single Family Residential' properties."
   ]
  },
  {
   "cell_type": "code",
   "execution_count": 1,
   "id": "87d548b3-f936-4487-9132-805efeddad57",
   "metadata": {},
   "outputs": [],
   "source": [
    "# prepare\n",
    "import pandas as pd\n",
    "import numpy as np\n",
    "import wrangle\n",
    "\n",
    "# turn off pink warning boxes\n",
    "import warnings\n",
    "warnings.filterwarnings(\"ignore\")\n",
    "\n",
    "# acquire\n",
    "import env"
   ]
  },
  {
   "cell_type": "code",
   "execution_count": 3,
   "id": "d461db38-6b1b-459d-a0cd-75df364912ad",
   "metadata": {},
   "outputs": [
    {
     "data": {
      "text/html": [
       "<div>\n",
       "<style scoped>\n",
       "    .dataframe tbody tr th:only-of-type {\n",
       "        vertical-align: middle;\n",
       "    }\n",
       "\n",
       "    .dataframe tbody tr th {\n",
       "        vertical-align: top;\n",
       "    }\n",
       "\n",
       "    .dataframe thead th {\n",
       "        text-align: right;\n",
       "    }\n",
       "</style>\n",
       "<table border=\"1\" class=\"dataframe\">\n",
       "  <thead>\n",
       "    <tr style=\"text-align: right;\">\n",
       "      <th></th>\n",
       "      <th>bedroomcnt</th>\n",
       "      <th>bathroomcnt</th>\n",
       "      <th>calculatedfinishedsquarefeet</th>\n",
       "      <th>taxvaluedollarcnt</th>\n",
       "      <th>yearbuilt</th>\n",
       "      <th>taxamount</th>\n",
       "      <th>fips</th>\n",
       "    </tr>\n",
       "  </thead>\n",
       "  <tbody>\n",
       "    <tr>\n",
       "      <th>0</th>\n",
       "      <td>0.0</td>\n",
       "      <td>0.0</td>\n",
       "      <td>NaN</td>\n",
       "      <td>9.0</td>\n",
       "      <td>NaN</td>\n",
       "      <td>NaN</td>\n",
       "      <td>6037.0</td>\n",
       "    </tr>\n",
       "    <tr>\n",
       "      <th>1</th>\n",
       "      <td>0.0</td>\n",
       "      <td>0.0</td>\n",
       "      <td>NaN</td>\n",
       "      <td>27516.0</td>\n",
       "      <td>NaN</td>\n",
       "      <td>NaN</td>\n",
       "      <td>6037.0</td>\n",
       "    </tr>\n",
       "    <tr>\n",
       "      <th>2</th>\n",
       "      <td>0.0</td>\n",
       "      <td>0.0</td>\n",
       "      <td>73026.0</td>\n",
       "      <td>1434941.0</td>\n",
       "      <td>1959.0</td>\n",
       "      <td>20800.37</td>\n",
       "      <td>6037.0</td>\n",
       "    </tr>\n",
       "    <tr>\n",
       "      <th>3</th>\n",
       "      <td>0.0</td>\n",
       "      <td>0.0</td>\n",
       "      <td>5068.0</td>\n",
       "      <td>1174475.0</td>\n",
       "      <td>1948.0</td>\n",
       "      <td>14557.57</td>\n",
       "      <td>6037.0</td>\n",
       "    </tr>\n",
       "    <tr>\n",
       "      <th>4</th>\n",
       "      <td>0.0</td>\n",
       "      <td>0.0</td>\n",
       "      <td>1776.0</td>\n",
       "      <td>440101.0</td>\n",
       "      <td>1947.0</td>\n",
       "      <td>5725.17</td>\n",
       "      <td>6037.0</td>\n",
       "    </tr>\n",
       "    <tr>\n",
       "      <th>...</th>\n",
       "      <td>...</td>\n",
       "      <td>...</td>\n",
       "      <td>...</td>\n",
       "      <td>...</td>\n",
       "      <td>...</td>\n",
       "      <td>...</td>\n",
       "      <td>...</td>\n",
       "    </tr>\n",
       "    <tr>\n",
       "      <th>2985212</th>\n",
       "      <td>NaN</td>\n",
       "      <td>NaN</td>\n",
       "      <td>NaN</td>\n",
       "      <td>NaN</td>\n",
       "      <td>NaN</td>\n",
       "      <td>NaN</td>\n",
       "      <td>NaN</td>\n",
       "    </tr>\n",
       "    <tr>\n",
       "      <th>2985213</th>\n",
       "      <td>NaN</td>\n",
       "      <td>NaN</td>\n",
       "      <td>NaN</td>\n",
       "      <td>NaN</td>\n",
       "      <td>NaN</td>\n",
       "      <td>NaN</td>\n",
       "      <td>NaN</td>\n",
       "    </tr>\n",
       "    <tr>\n",
       "      <th>2985214</th>\n",
       "      <td>NaN</td>\n",
       "      <td>NaN</td>\n",
       "      <td>NaN</td>\n",
       "      <td>NaN</td>\n",
       "      <td>NaN</td>\n",
       "      <td>NaN</td>\n",
       "      <td>NaN</td>\n",
       "    </tr>\n",
       "    <tr>\n",
       "      <th>2985215</th>\n",
       "      <td>NaN</td>\n",
       "      <td>NaN</td>\n",
       "      <td>NaN</td>\n",
       "      <td>NaN</td>\n",
       "      <td>NaN</td>\n",
       "      <td>NaN</td>\n",
       "      <td>NaN</td>\n",
       "    </tr>\n",
       "    <tr>\n",
       "      <th>2985216</th>\n",
       "      <td>NaN</td>\n",
       "      <td>NaN</td>\n",
       "      <td>NaN</td>\n",
       "      <td>NaN</td>\n",
       "      <td>NaN</td>\n",
       "      <td>NaN</td>\n",
       "      <td>NaN</td>\n",
       "    </tr>\n",
       "  </tbody>\n",
       "</table>\n",
       "<p>2985217 rows × 7 columns</p>\n",
       "</div>"
      ],
      "text/plain": [
       "         bedroomcnt  bathroomcnt  calculatedfinishedsquarefeet  \\\n",
       "0               0.0          0.0                           NaN   \n",
       "1               0.0          0.0                           NaN   \n",
       "2               0.0          0.0                       73026.0   \n",
       "3               0.0          0.0                        5068.0   \n",
       "4               0.0          0.0                        1776.0   \n",
       "...             ...          ...                           ...   \n",
       "2985212         NaN          NaN                           NaN   \n",
       "2985213         NaN          NaN                           NaN   \n",
       "2985214         NaN          NaN                           NaN   \n",
       "2985215         NaN          NaN                           NaN   \n",
       "2985216         NaN          NaN                           NaN   \n",
       "\n",
       "         taxvaluedollarcnt  yearbuilt  taxamount    fips  \n",
       "0                      9.0        NaN        NaN  6037.0  \n",
       "1                  27516.0        NaN        NaN  6037.0  \n",
       "2                1434941.0     1959.0   20800.37  6037.0  \n",
       "3                1174475.0     1948.0   14557.57  6037.0  \n",
       "4                 440101.0     1947.0    5725.17  6037.0  \n",
       "...                    ...        ...        ...     ...  \n",
       "2985212                NaN        NaN        NaN     NaN  \n",
       "2985213                NaN        NaN        NaN     NaN  \n",
       "2985214                NaN        NaN        NaN     NaN  \n",
       "2985215                NaN        NaN        NaN     NaN  \n",
       "2985216                NaN        NaN        NaN     NaN  \n",
       "\n",
       "[2985217 rows x 7 columns]"
      ]
     },
     "execution_count": 3,
     "metadata": {},
     "output_type": "execute_result"
    }
   ],
   "source": [
    "zillow_df = wrangle.get_zillow_data()\n",
    "zillow_df"
   ]
  },
  {
   "cell_type": "markdown",
   "id": "7d86a24d-9566-436f-8714-a2adbac4e370",
   "metadata": {},
   "source": [
    "2. Acquisition and Prep - Using your acquired Zillow data, walk through the summarization and cleaning steps in your wrangle.ipynb file like we did above. You may handle the missing values however you feel is appropriate and meaninful; remember to document your process and decisions using markdown and code commenting where helpful."
   ]
  },
  {
   "cell_type": "code",
   "execution_count": 4,
   "id": "cccbf92e-c4db-4b55-9eee-a162c5456d35",
   "metadata": {},
   "outputs": [
    {
     "data": {
      "text/plain": [
       "bedroomcnt                       2945\n",
       "bathroomcnt                      2957\n",
       "calculatedfinishedsquarefeet    45097\n",
       "taxvaluedollarcnt               34266\n",
       "yearbuilt                       47833\n",
       "taxamount                       22752\n",
       "fips                             2932\n",
       "dtype: int64"
      ]
     },
     "execution_count": 4,
     "metadata": {},
     "output_type": "execute_result"
    }
   ],
   "source": [
    "pd.isnull(zillow_df).sum()"
   ]
  },
  {
   "cell_type": "code",
   "execution_count": 5,
   "id": "a1e25d4d-f331-4e64-bf9e-35657aae8457",
   "metadata": {},
   "outputs": [
    {
     "data": {
      "text/plain": [
       "2985217"
      ]
     },
     "execution_count": 5,
     "metadata": {},
     "output_type": "execute_result"
    }
   ],
   "source": [
    "(zillow_df).shape[0]"
   ]
  },
  {
   "cell_type": "code",
   "execution_count": 6,
   "id": "e1443f9f-003b-4939-8659-c9c8ec6fbb7e",
   "metadata": {},
   "outputs": [
    {
     "data": {
      "text/plain": [
       "bedroomcnt                      2982272\n",
       "bathroomcnt                     2982260\n",
       "calculatedfinishedsquarefeet    2940120\n",
       "taxvaluedollarcnt               2950951\n",
       "yearbuilt                       2937384\n",
       "taxamount                       2962465\n",
       "fips                            2982285\n",
       "dtype: int64"
      ]
     },
     "execution_count": 6,
     "metadata": {},
     "output_type": "execute_result"
    }
   ],
   "source": [
    "(zillow_df).shape[0] - pd.isnull(zillow_df).sum()"
   ]
  },
  {
   "cell_type": "code",
   "execution_count": 7,
   "id": "74f93bbb-e24a-4133-b108-54c17f282ba3",
   "metadata": {},
   "outputs": [
    {
     "data": {
      "text/plain": [
       "bedroomcnt                      0.098653\n",
       "bathroomcnt                     0.099055\n",
       "calculatedfinishedsquarefeet    1.510677\n",
       "taxvaluedollarcnt               1.147856\n",
       "yearbuilt                       1.602329\n",
       "taxamount                       0.762156\n",
       "fips                            0.098217\n",
       "dtype: float64"
      ]
     },
     "execution_count": 7,
     "metadata": {},
     "output_type": "execute_result"
    }
   ],
   "source": [
    "# Should be percentage of nulls but lecture had a different answer\n",
    "(pd.isnull(zillow_df).sum() / (zillow_df).shape[0])*100"
   ]
  },
  {
   "cell_type": "code",
   "execution_count": null,
   "id": "40451fa9-31b2-4a3b-b0e7-808f2a7364e3",
   "metadata": {},
   "outputs": [],
   "source": [
    "# This is the method Ryan used which has different results, well at least in the lesson, hmm...\n",
    "zillow_df.isna().mean()"
   ]
  },
  {
   "cell_type": "code",
   "execution_count": null,
   "id": "90d475ea-93e5-45a9-a02f-bc265bf1f86e",
   "metadata": {},
   "outputs": [],
   "source": [
    "# percentage of data left if we dropped all rows with any null values; lecture different number\n",
    "round(zillow_df.dropna().shape[0] / zillow_df.shape[0], 4)"
   ]
  },
  {
   "cell_type": "code",
   "execution_count": null,
   "id": "554325ee-f2dd-42a5-adbf-70eb144bb5be",
   "metadata": {},
   "outputs": [],
   "source": [
    "# drops the rows with any null values and returns a new null-free df\n",
    "zillow_df = zillow_df.dropna()\n"
   ]
  },
  {
   "cell_type": "code",
   "execution_count": 8,
   "id": "297fdf5b-f3ca-4634-a42f-b0ecf3936692",
   "metadata": {},
   "outputs": [
    {
     "data": {
      "text/plain": [
       "2985217"
      ]
     },
     "execution_count": 8,
     "metadata": {},
     "output_type": "execute_result"
    }
   ],
   "source": [
    "# null free df; different from lecture\n",
    "zillow_df.shape[0]"
   ]
  },
  {
   "cell_type": "code",
   "execution_count": null,
   "id": "abfc7d9d-6bac-4cb8-b750-1dd1eaf084aa",
   "metadata": {},
   "outputs": [],
   "source": [
    "zillow_df.columns.tolist()"
   ]
  },
  {
   "cell_type": "code",
   "execution_count": null,
   "id": "7042919f-3930-4419-bb02-2178d7029275",
   "metadata": {},
   "outputs": [],
   "source": [
    "# lists number of results for each of the values in each column; different from lecture\n",
    "for column in zillow_df.columns:\n",
    "    print(column)\n",
    "    print(zillow_df[column].value_counts())\n",
    "    print(\"-----------------\")"
   ]
  },
  {
   "cell_type": "markdown",
   "id": "3b248cc0-8524-4477-ab86-e059af599e8e",
   "metadata": {},
   "source": [
    "Based on these results we can change bedrooms to an integer since they're all whole numbers, same with calculatedfinishedsquarefeet, taxvaluedollarcnt, and yearbuilt\n",
    "However the bathrooms include half baths which we'd like to keep so they'll stay as floats\n",
    "FIPS can also be changed to an integer because this number is categorical representing county zip codes"
   ]
  },
  {
   "cell_type": "code",
   "execution_count": null,
   "id": "5ca7c363-238b-439e-963e-03b1c0bf81da",
   "metadata": {},
   "outputs": [],
   "source": [
    "# We can use the following code to figure out that 100% of calculatedfinishedsquarefeet can be converted to int w/o data loss\n",
    "(zillow_df.calculatedfinishedsquarefeet == zillow_df.calculatedfinishedsquarefeet.astype(int)).mean()"
   ]
  },
  {
   "cell_type": "code",
   "execution_count": null,
   "id": "71dba8ad-02df-4a0e-977e-9c8a86e8b5d1",
   "metadata": {},
   "outputs": [],
   "source": [
    "# Same with taxvaluedollarcnt. 100% of taxvaluedollarcnt can lose the deicimal and be OK\n",
    "(zillow_df.taxvaluedollarcnt == zillow_df.taxvaluedollarcnt.astype(int)).mean()"
   ]
  },
  {
   "cell_type": "code",
   "execution_count": null,
   "id": "14452c67-4bf1-478d-b7e3-2bf447d029e5",
   "metadata": {},
   "outputs": [],
   "source": [
    "# This is not the case for out bathrooms\n",
    "(zillow_df.bathroomcnt == zillow_df.bathroomcnt.astype(int)).mean()"
   ]
  },
  {
   "cell_type": "code",
   "execution_count": null,
   "id": "c81fb6cb-939f-465f-9532-fec92723e8a3",
   "metadata": {},
   "outputs": [],
   "source": [
    "# converts our fips, yearbuilt, bedrooms, taxvaluedollarcnt, to integers\n",
    "zillow_df[\"fips\"] = zillow_df[\"fips\"].astype(int)\n",
    "zillow_df[\"yearbuilt\"] = zillow_df[\"yearbuilt\"].astype(int)\n",
    "zillow_df[\"bedroomcnt\"] = zillow_df[\"bedroomcnt\"].astype(int)\n",
    "zillow_df[\"taxvaluedollarcnt\"] = zillow_df[\"taxvaluedollarcnt\"].astype(int)\n",
    "zillow_df[\"calculatedfinishedsquarefeet\"] = zillow_df[\"calculatedfinishedsquarefeet\"].astype(int)"
   ]
  },
  {
   "cell_type": "code",
   "execution_count": null,
   "id": "8fdc9a8d-dd64-4573-b95f-9da784d75715",
   "metadata": {},
   "outputs": [],
   "source": [
    "zillow_df.describe().round(1)"
   ]
  },
  {
   "cell_type": "code",
   "execution_count": null,
   "id": "b9ca0c4e-93ec-47c0-97a3-007c88b448a7",
   "metadata": {},
   "outputs": [],
   "source": [
    "zillow_df.dtypes"
   ]
  },
  {
   "cell_type": "code",
   "execution_count": 1,
   "id": "c4c0d83b-0345-47f1-b053-1926e63dcea4",
   "metadata": {},
   "outputs": [],
   "source": [
    "# import modules for acquire and prep stages\n",
    "import pandas as pd\n",
    "import env\n",
    "import os\n",
    "from sklearn.model_selection import train_test_split"
   ]
  },
  {
   "cell_type": "markdown",
   "id": "25ffdc64-ae58-4896-acbb-10efa846c443",
   "metadata": {},
   "source": [
    "The below function will be what we use to access the database holding our Zillow data"
   ]
  },
  {
   "cell_type": "code",
   "execution_count": 2,
   "id": "c92b1971-ee76-4e3e-bee7-c717a4c07c6f",
   "metadata": {},
   "outputs": [],
   "source": [
    "def get_connection(db, user=env.user, host=env.host, password=env.password):\n",
    "    '''\n",
    "    Function allows user to access Codeup database using their own \n",
    "    credentials stored in  their env.py file\n",
    "    '''\n",
    "    \n",
    "# Returns with correct address/password combinat to access the database\n",
    "    return f'mysql+pymysql://{user}:{password}@{host}/{db}'"
   ]
  },
  {
   "cell_type": "code",
   "execution_count": 3,
   "id": "27921c18-4f26-4eb0-af18-06d48fa196fb",
   "metadata": {},
   "outputs": [],
   "source": [
    "def new_zillow_data():\n",
    "    '''\n",
    "    SQL query that joins the customers table with, contract, payment, and \\n\n",
    "    internet service options\n",
    "    '''\n",
    "    \n",
    "# SQL query that joins three other tables to customer table\n",
    "    sql_query = '''\n",
    "                SELECT bedroomcnt, bathroomcnt, calculatedfinishedsquarefeet, taxvaluedollarcnt, yearbuilt, taxamount, fips FROM properties_2017\n",
    "                join propertylandusetype using (propertylandusetypeid)\n",
    "                where propertylandusedesc = \"Single Family Residential\"\n",
    "                '''\n",
    "# Read in DataFrame from Codeup db.\n",
    "    df = pd.read_sql(sql_query, get_connection('zillow'))\n",
    "    \n",
    "# Returns the called dataframe\n",
    "    return df"
   ]
  },
  {
   "cell_type": "code",
   "execution_count": 4,
   "id": "b540334c-c75d-4b90-8b79-3e9146ab018e",
   "metadata": {},
   "outputs": [],
   "source": [
    "def get_zillow_data():\n",
    "    '''\n",
    "    Function allows user to access zillow_data from Codeup database and write it\\n\n",
    "    to a csv file then returns the dataframe.\n",
    "    '''\n",
    "    \n",
    "# if statement that checks if there's already a .csv file to use \n",
    "    if os.path.isfile('zillow.csv'):\n",
    "        \n",
    "# If csv file exists read in data from csv file.\n",
    "        df = pd.read_csv('zillow.csv', index_col=0)\n",
    "        \n",
    "# Alternative if no csv file found then\n",
    "    else:\n",
    "        \n",
    "# Read fresh data from db into a DataFrame\n",
    "        df = new_zillow_data()\n",
    "        \n",
    "# Cache data for local use\n",
    "        df.to_csv('zillow.csv')\n",
    "\n",
    "# Returns requested df\n",
    "    return df"
   ]
  },
  {
   "cell_type": "markdown",
   "id": "02f63cd0-2763-4a2f-9132-f4f9a6f9c940",
   "metadata": {},
   "source": [
    "Since there are relatively few nulls compared to the number of rows of data we have they'll be dropped using the below function"
   ]
  },
  {
   "cell_type": "code",
   "execution_count": 5,
   "id": "fd0d9037-8b78-46e3-ac69-a7e65aa02839",
   "metadata": {},
   "outputs": [],
   "source": [
    "def handle_nulls(df):\n",
    "    '''\n",
    "    Gets rid of the rows with any null values and returns a new null-free df\n",
    "    '''\n",
    "    \n",
    "# drops the rows with any null values and returns a new null-free df\n",
    "    df = df.dropna()\n",
    "    \n",
    "    \n",
    "    return df"
   ]
  },
  {
   "cell_type": "markdown",
   "id": "664fd9e3-7482-4346-bc4d-be93caf6cff5",
   "metadata": {},
   "source": [
    "We'll clean up the data by converting it into data types that are easier to work with for our purposes"
   ]
  },
  {
   "cell_type": "code",
   "execution_count": 6,
   "id": "34e6ae12-e01e-4729-872a-07285ed6eea1",
   "metadata": {},
   "outputs": [],
   "source": [
    "def float_to_int(df):\n",
    "    '''\n",
    "    Converts our fips, bedrooms, calculatedfinishedsquarefeet, taxvaluedollarcnt, and yearbuilt from floats to integers\n",
    "    '''\n",
    "# converts our fips, bedrooms, calculatedfinishedsquarefeet, taxvaluedollarcnt, and yearbuilt from floats to integers\n",
    "    df[\"fips\"] = df[\"fips\"].astype(int)\n",
    "    df[\"yearbuilt\"] = df[\"yearbuilt\"].astype(int)\n",
    "    df[\"bedroomcnt\"] = df[\"bedroomcnt\"].astype(int)\n",
    "    df[\"taxvaluedollarcnt\"] = df[\"taxvaluedollarcnt\"].astype(int)\n",
    "    df[\"calculatedfinishedsquarefeet\"] = df[\"calculatedfinishedsquarefeet\"].astype(int)\n",
    "    \n",
    "    return df"
   ]
  },
  {
   "cell_type": "code",
   "execution_count": 7,
   "id": "c78e8273-e407-4597-920b-a1a4510edb58",
   "metadata": {},
   "outputs": [],
   "source": [
    "def clean_zillow(df):\n",
    "    '''\n",
    "    Groups our functions used to clean up our data into a single function for ease of use\n",
    "    '''\n",
    "    \n",
    "    df = handle_nulls(df)\n",
    "    df = float_to_int(df)\n",
    "    \n",
    "    return df"
   ]
  },
  {
   "cell_type": "code",
   "execution_count": 8,
   "id": "576cd42d-c74b-47d5-89dc-0fb8c4695553",
   "metadata": {},
   "outputs": [],
   "source": [
    "def split_zillow(df):\n",
    "    '''\n",
    "    Takes our df and splits it into train, validate, and test dfs for exploration, fitting, validation, and testing\n",
    "    '''\n",
    "    \n",
    "# splits the full data set 60/40 into train and test dataframes stratified \n",
    "# around taxvaluedollarcnt, the target variable, using the train_test_split function\n",
    "    train, test = train_test_split(df, \n",
    "                               train_size = 0.75, \n",
    "                               stratify = df.fips, \n",
    "                               random_state=2468)\n",
    "\n",
    "# splits the train dataframe 60/40 into the new train and validate dataframes\n",
    "# they're stratified around taxvaluedollarcnt again using the train_test_split function\n",
    "    train, validate = train_test_split(train,\n",
    "                                    train_size = 0.75,\n",
    "                                    stratify = train.fips,\n",
    "                                    random_state=2468)\n",
    "    \n",
    "# returns the three dataframes we'll use for training, validation, and testing\n",
    "    return train, validate, test"
   ]
  },
  {
   "cell_type": "markdown",
   "id": "19e15e94-7a6f-4b6f-865b-d87152798639",
   "metadata": {},
   "source": [
    "5. Scaling Numeric Data - Based on the work you've done, choose a scaling method for your dataset. Write a function within your prepare.py (wrangle.py for me) that accepts as input the train, validate, and test data splits, and returns the scaled versions of each. Be sure to only learn the parameters for scaling from your training data!"
   ]
  },
  {
   "cell_type": "code",
   "execution_count": 1,
   "id": "1be0eea3-984c-4990-9779-331fa1cb91e2",
   "metadata": {},
   "outputs": [],
   "source": [
    "def scale_zillow(train, validate, test,\n",
    "                 cols_to_scale = ['bedroomcnt', 'bathroomcnt', 'calculatedfinishedsquarefeet', 'taxvaluedollarcnt']):\n",
    "    '''\n",
    "    Accepts train, valide, and test as inputs from split data then returns scaled versions for each one\n",
    "    '''\n",
    "    train_scaled = train.copy()\n",
    "    validate_scaled = validate.copy()\n",
    "    test_scaled = test.copy()\n",
    "    \n",
    "    scaler = MinMaxScaler()\n",
    "    \n",
    "    scaler.fit(train[cols_to_scale])\n",
    "    \n",
    "    train_scaled[cols_to_scale] = pd.DataFrame(scaler.transform(train[cols_to_scale]), columns=train[cols_to_scale].columns.values).set_index([train.index.values])\n",
    "                                                  \n",
    "    validate_scaled[cols_to_scale] = pd.DataFrame(scaler.transform(validate[cols_to_scale]), columns=validate[cols_to_scale].columns.values).set_index([validate.index.values])\n",
    "    \n",
    "    test_scaled[cols_to_scale] = pd.DataFrame(scaler.transform(test[cols_to_scale]), columns=test[cols_to_scale].columns.values).set_index([test.index.values])\n",
    "    \n",
    "    return train_scaled, validate_scaled, test_scaled"
   ]
  },
  {
   "cell_type": "markdown",
   "id": "90410179-1fbb-4bca-a77b-d436c0307b1f",
   "metadata": {},
   "source": [
    "3. Acquisition and Prep - Store all of the necessary functions to automate your process from acquiring the data to returning a cleaned dataframe witn no missing values in your wrangle.py file. Name your final function wrangle_zillow"
   ]
  },
  {
   "cell_type": "code",
   "execution_count": 9,
   "id": "44f9a3d2-bbdc-4fb4-9ac9-63df0d010ec5",
   "metadata": {
    "tags": []
   },
   "outputs": [],
   "source": [
    "def wrangle_zillow():\n",
    "    '''\n",
    "    Function that acquires zillow data using the new_zillow_data function and \n",
    "    caches it, as a csv file, if there isn't already a local copy\n",
    "    '''\n",
    "    df = get_zillow_data()\n",
    "    df = clean_zillow(df)\n",
    "    train, validate, test = split_zillow(df)\n",
    "    \n",
    "    return train, validate, test\n"
   ]
  }
 ],
 "metadata": {
  "kernelspec": {
   "display_name": "Python 3 (ipykernel)",
   "language": "python",
   "name": "python3"
  },
  "language_info": {
   "codemirror_mode": {
    "name": "ipython",
    "version": 3
   },
   "file_extension": ".py",
   "mimetype": "text/x-python",
   "name": "python",
   "nbconvert_exporter": "python",
   "pygments_lexer": "ipython3",
   "version": "3.9.7"
  }
 },
 "nbformat": 4,
 "nbformat_minor": 5
}
