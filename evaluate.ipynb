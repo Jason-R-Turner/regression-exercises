{
 "cells": [
  {
   "cell_type": "markdown",
   "id": "234cd220-5f20-486d-8734-1439acdf8d2b",
   "metadata": {},
   "source": [
    "# Evaluating Regression Models"
   ]
  },
  {
   "cell_type": "code",
   "execution_count": 1,
   "id": "4325f499-27f4-49e5-9bac-43170b47e917",
   "metadata": {},
   "outputs": [],
   "source": [
    "import pandas as pd\n",
    "import numpy as np\n",
    "import matplotlib.pyplot as plt\n",
    "import seaborn as sns\n",
    "\n",
    "from scipy import stats\n",
    "from sklearn.metrics import mean_squared_error, r2_score\n",
    "from sklearn.model_selection import train_test_split\n",
    "from sklearn.linear_model import LinearRegression\n",
    "from math import sqrt\n",
    "import statsmodels.api as sm\n",
    "\n",
    "# Ignores pink warning boxes\n",
    "import warnings\n",
    "warnings.filterwarnings('ignore')\n",
    "import math\n",
    "import wrangle"
   ]
  },
  {
   "cell_type": "markdown",
   "id": "b57de10a-3516-40d0-8b0f-9b574b3c8b02",
   "metadata": {},
   "source": [
    "1. Load your zillow dataset."
   ]
  },
  {
   "cell_type": "code",
   "execution_count": 2,
   "id": "0a2fcd19-f51a-497d-beea-cb0c146aa00e",
   "metadata": {},
   "outputs": [],
   "source": [
    "train, validate, test = wrangle.wrangle_zillow()"
   ]
  },
  {
   "cell_type": "code",
   "execution_count": 3,
   "id": "7421df99-c619-4b5f-8f76-0f3d83000b20",
   "metadata": {},
   "outputs": [
    {
     "data": {
      "text/html": [
       "<div>\n",
       "<style scoped>\n",
       "    .dataframe tbody tr th:only-of-type {\n",
       "        vertical-align: middle;\n",
       "    }\n",
       "\n",
       "    .dataframe tbody tr th {\n",
       "        vertical-align: top;\n",
       "    }\n",
       "\n",
       "    .dataframe thead th {\n",
       "        text-align: right;\n",
       "    }\n",
       "</style>\n",
       "<table border=\"1\" class=\"dataframe\">\n",
       "  <thead>\n",
       "    <tr style=\"text-align: right;\">\n",
       "      <th></th>\n",
       "      <th>bedroomcnt</th>\n",
       "      <th>bathroomcnt</th>\n",
       "      <th>calculatedfinishedsquarefeet</th>\n",
       "      <th>taxvaluedollarcnt</th>\n",
       "      <th>yearbuilt</th>\n",
       "      <th>taxamount</th>\n",
       "      <th>fips</th>\n",
       "    </tr>\n",
       "  </thead>\n",
       "  <tbody>\n",
       "    <tr>\n",
       "      <th>2086451</th>\n",
       "      <td>3</td>\n",
       "      <td>2.5</td>\n",
       "      <td>1746</td>\n",
       "      <td>329842</td>\n",
       "      <td>1979</td>\n",
       "      <td>3281.70</td>\n",
       "      <td>6059</td>\n",
       "    </tr>\n",
       "    <tr>\n",
       "      <th>1608617</th>\n",
       "      <td>2</td>\n",
       "      <td>2.0</td>\n",
       "      <td>1503</td>\n",
       "      <td>378681</td>\n",
       "      <td>1980</td>\n",
       "      <td>3779.86</td>\n",
       "      <td>6059</td>\n",
       "    </tr>\n",
       "    <tr>\n",
       "      <th>854792</th>\n",
       "      <td>4</td>\n",
       "      <td>4.0</td>\n",
       "      <td>2469</td>\n",
       "      <td>3464540</td>\n",
       "      <td>1950</td>\n",
       "      <td>41401.23</td>\n",
       "      <td>6037</td>\n",
       "    </tr>\n",
       "    <tr>\n",
       "      <th>2066831</th>\n",
       "      <td>2</td>\n",
       "      <td>1.0</td>\n",
       "      <td>1507</td>\n",
       "      <td>78173</td>\n",
       "      <td>1952</td>\n",
       "      <td>1477.34</td>\n",
       "      <td>6037</td>\n",
       "    </tr>\n",
       "    <tr>\n",
       "      <th>2508263</th>\n",
       "      <td>2</td>\n",
       "      <td>2.0</td>\n",
       "      <td>1150</td>\n",
       "      <td>54832</td>\n",
       "      <td>1966</td>\n",
       "      <td>1139.31</td>\n",
       "      <td>6037</td>\n",
       "    </tr>\n",
       "    <tr>\n",
       "      <th>...</th>\n",
       "      <td>...</td>\n",
       "      <td>...</td>\n",
       "      <td>...</td>\n",
       "      <td>...</td>\n",
       "      <td>...</td>\n",
       "      <td>...</td>\n",
       "      <td>...</td>\n",
       "    </tr>\n",
       "    <tr>\n",
       "      <th>2578047</th>\n",
       "      <td>1</td>\n",
       "      <td>1.0</td>\n",
       "      <td>678</td>\n",
       "      <td>294384</td>\n",
       "      <td>1990</td>\n",
       "      <td>3804.80</td>\n",
       "      <td>6059</td>\n",
       "    </tr>\n",
       "    <tr>\n",
       "      <th>972773</th>\n",
       "      <td>4</td>\n",
       "      <td>2.0</td>\n",
       "      <td>1392</td>\n",
       "      <td>173600</td>\n",
       "      <td>1955</td>\n",
       "      <td>2840.54</td>\n",
       "      <td>6037</td>\n",
       "    </tr>\n",
       "    <tr>\n",
       "      <th>2204227</th>\n",
       "      <td>3</td>\n",
       "      <td>2.0</td>\n",
       "      <td>1370</td>\n",
       "      <td>339532</td>\n",
       "      <td>1977</td>\n",
       "      <td>3854.74</td>\n",
       "      <td>6059</td>\n",
       "    </tr>\n",
       "    <tr>\n",
       "      <th>994295</th>\n",
       "      <td>2</td>\n",
       "      <td>3.0</td>\n",
       "      <td>1204</td>\n",
       "      <td>305000</td>\n",
       "      <td>1979</td>\n",
       "      <td>3747.38</td>\n",
       "      <td>6037</td>\n",
       "    </tr>\n",
       "    <tr>\n",
       "      <th>2977560</th>\n",
       "      <td>2</td>\n",
       "      <td>2.0</td>\n",
       "      <td>1280</td>\n",
       "      <td>394451</td>\n",
       "      <td>1986</td>\n",
       "      <td>4674.76</td>\n",
       "      <td>6037</td>\n",
       "    </tr>\n",
       "  </tbody>\n",
       "</table>\n",
       "<p>1632328 rows × 7 columns</p>\n",
       "</div>"
      ],
      "text/plain": [
       "         bedroomcnt  bathroomcnt  calculatedfinishedsquarefeet  \\\n",
       "2086451           3          2.5                          1746   \n",
       "1608617           2          2.0                          1503   \n",
       "854792            4          4.0                          2469   \n",
       "2066831           2          1.0                          1507   \n",
       "2508263           2          2.0                          1150   \n",
       "...             ...          ...                           ...   \n",
       "2578047           1          1.0                           678   \n",
       "972773            4          2.0                          1392   \n",
       "2204227           3          2.0                          1370   \n",
       "994295            2          3.0                          1204   \n",
       "2977560           2          2.0                          1280   \n",
       "\n",
       "         taxvaluedollarcnt  yearbuilt  taxamount  fips  \n",
       "2086451             329842       1979    3281.70  6059  \n",
       "1608617             378681       1980    3779.86  6059  \n",
       "854792             3464540       1950   41401.23  6037  \n",
       "2066831              78173       1952    1477.34  6037  \n",
       "2508263              54832       1966    1139.31  6037  \n",
       "...                    ...        ...        ...   ...  \n",
       "2578047             294384       1990    3804.80  6059  \n",
       "972773              173600       1955    2840.54  6037  \n",
       "2204227             339532       1977    3854.74  6059  \n",
       "994295              305000       1979    3747.38  6037  \n",
       "2977560             394451       1986    4674.76  6037  \n",
       "\n",
       "[1632328 rows x 7 columns]"
      ]
     },
     "execution_count": 3,
     "metadata": {},
     "output_type": "execute_result"
    }
   ],
   "source": [
    "train"
   ]
  },
  {
   "cell_type": "markdown",
   "id": "e5c5c126-1c45-41ac-9c0c-4eb95dcb44ec",
   "metadata": {},
   "source": [
    "2. Fit a linear regression model (ordinary least squares) and compute yhat, predictions of taxvaluedollarcnt using only calfulatedfinishedsqft.\n",
    "\n",
    "Here is some sample code to get you started:\n",
    "\n",
    "`from sklearn.linear_model import LinearRegression`\n",
    "\n",
    "assuming X and y are already defined\n",
    "`model = LinearRegression().fit(X, y)\n",
    "predictions = model.predict(X)\n",
    "Modify and add to the code above as necessary for it to work with the zillow dataset.`"
   ]
  },
  {
   "cell_type": "code",
   "execution_count": 4,
   "id": "bb6becca-42fa-42c8-92af-aabc070a2131",
   "metadata": {},
   "outputs": [],
   "source": [
    "train.drop(columns = ['bedroomcnt', 'bathroomcnt', 'yearbuilt', 'taxamount', 'fips'], inplace=True)"
   ]
  },
  {
   "cell_type": "code",
   "execution_count": 5,
   "id": "31f07221-4cb6-409c-ae2f-cb96dfed1f9f",
   "metadata": {},
   "outputs": [],
   "source": [
    "X_train = train[['calculatedfinishedsquarefeet']]\n",
    "y_train = train['taxvaluedollarcnt']\n",
    "                \n",
    "X_validate = validate[['calculatedfinishedsquarefeet']]\n",
    "y_validate = validate['taxvaluedollarcnt']\n",
    "\n",
    "X_test = test[['calculatedfinishedsquarefeet']]\n",
    "y_test = test['taxvaluedollarcnt']"
   ]
  },
  {
   "cell_type": "code",
   "execution_count": 6,
   "id": "cd798952-2ee4-4495-9465-ee205c744e8c",
   "metadata": {},
   "outputs": [
    {
     "data": {
      "text/html": [
       "<div>\n",
       "<style scoped>\n",
       "    .dataframe tbody tr th:only-of-type {\n",
       "        vertical-align: middle;\n",
       "    }\n",
       "\n",
       "    .dataframe tbody tr th {\n",
       "        vertical-align: top;\n",
       "    }\n",
       "\n",
       "    .dataframe thead th {\n",
       "        text-align: right;\n",
       "    }\n",
       "</style>\n",
       "<table border=\"1\" class=\"dataframe\">\n",
       "  <thead>\n",
       "    <tr style=\"text-align: right;\">\n",
       "      <th></th>\n",
       "      <th>calculatedfinishedsquarefeet</th>\n",
       "    </tr>\n",
       "  </thead>\n",
       "  <tbody>\n",
       "    <tr>\n",
       "      <th>2086451</th>\n",
       "      <td>1746</td>\n",
       "    </tr>\n",
       "    <tr>\n",
       "      <th>1608617</th>\n",
       "      <td>1503</td>\n",
       "    </tr>\n",
       "    <tr>\n",
       "      <th>854792</th>\n",
       "      <td>2469</td>\n",
       "    </tr>\n",
       "    <tr>\n",
       "      <th>2066831</th>\n",
       "      <td>1507</td>\n",
       "    </tr>\n",
       "    <tr>\n",
       "      <th>2508263</th>\n",
       "      <td>1150</td>\n",
       "    </tr>\n",
       "    <tr>\n",
       "      <th>...</th>\n",
       "      <td>...</td>\n",
       "    </tr>\n",
       "    <tr>\n",
       "      <th>2578047</th>\n",
       "      <td>678</td>\n",
       "    </tr>\n",
       "    <tr>\n",
       "      <th>972773</th>\n",
       "      <td>1392</td>\n",
       "    </tr>\n",
       "    <tr>\n",
       "      <th>2204227</th>\n",
       "      <td>1370</td>\n",
       "    </tr>\n",
       "    <tr>\n",
       "      <th>994295</th>\n",
       "      <td>1204</td>\n",
       "    </tr>\n",
       "    <tr>\n",
       "      <th>2977560</th>\n",
       "      <td>1280</td>\n",
       "    </tr>\n",
       "  </tbody>\n",
       "</table>\n",
       "<p>1632328 rows × 1 columns</p>\n",
       "</div>"
      ],
      "text/plain": [
       "         calculatedfinishedsquarefeet\n",
       "2086451                          1746\n",
       "1608617                          1503\n",
       "854792                           2469\n",
       "2066831                          1507\n",
       "2508263                          1150\n",
       "...                               ...\n",
       "2578047                           678\n",
       "972773                           1392\n",
       "2204227                          1370\n",
       "994295                           1204\n",
       "2977560                          1280\n",
       "\n",
       "[1632328 rows x 1 columns]"
      ]
     },
     "execution_count": 6,
     "metadata": {},
     "output_type": "execute_result"
    }
   ],
   "source": [
    "X_train"
   ]
  },
  {
   "cell_type": "code",
   "execution_count": 7,
   "id": "2a78c5e3-d915-46cb-a658-aa07b3d42fe1",
   "metadata": {},
   "outputs": [
    {
     "data": {
      "text/plain": [
       "2086451     329842\n",
       "1608617     378681\n",
       "854792     3464540\n",
       "2066831      78173\n",
       "2508263      54832\n",
       "            ...   \n",
       "2578047     294384\n",
       "972773      173600\n",
       "2204227     339532\n",
       "994295      305000\n",
       "2977560     394451\n",
       "Name: taxvaluedollarcnt, Length: 1632328, dtype: int64"
      ]
     },
     "execution_count": 7,
     "metadata": {},
     "output_type": "execute_result"
    }
   ],
   "source": [
    "y_train"
   ]
  },
  {
   "cell_type": "code",
   "execution_count": 8,
   "id": "8ac3b780-5302-4c9a-bd8d-c9cfd2bbbf60",
   "metadata": {},
   "outputs": [
    {
     "data": {
      "text/plain": [
       "444573.81453604915"
      ]
     },
     "execution_count": 8,
     "metadata": {},
     "output_type": "execute_result"
    }
   ],
   "source": [
    "baseline = train.taxvaluedollarcnt.mean()\n",
    "baseline"
   ]
  },
  {
   "cell_type": "code",
   "execution_count": 9,
   "id": "b86c8549-6e16-4422-9c6c-2f019f49ab1c",
   "metadata": {},
   "outputs": [
    {
     "data": {
      "text/html": [
       "<div>\n",
       "<style scoped>\n",
       "    .dataframe tbody tr th:only-of-type {\n",
       "        vertical-align: middle;\n",
       "    }\n",
       "\n",
       "    .dataframe tbody tr th {\n",
       "        vertical-align: top;\n",
       "    }\n",
       "\n",
       "    .dataframe thead th {\n",
       "        text-align: right;\n",
       "    }\n",
       "</style>\n",
       "<table border=\"1\" class=\"dataframe\">\n",
       "  <thead>\n",
       "    <tr style=\"text-align: right;\">\n",
       "      <th></th>\n",
       "      <th>calculatedfinishedsquarefeet</th>\n",
       "      <th>taxvaluedollarcnt</th>\n",
       "      <th>baseline</th>\n",
       "    </tr>\n",
       "  </thead>\n",
       "  <tbody>\n",
       "    <tr>\n",
       "      <th>2086451</th>\n",
       "      <td>1746</td>\n",
       "      <td>329842</td>\n",
       "      <td>444573.814536</td>\n",
       "    </tr>\n",
       "    <tr>\n",
       "      <th>1608617</th>\n",
       "      <td>1503</td>\n",
       "      <td>378681</td>\n",
       "      <td>444573.814536</td>\n",
       "    </tr>\n",
       "    <tr>\n",
       "      <th>854792</th>\n",
       "      <td>2469</td>\n",
       "      <td>3464540</td>\n",
       "      <td>444573.814536</td>\n",
       "    </tr>\n",
       "    <tr>\n",
       "      <th>2066831</th>\n",
       "      <td>1507</td>\n",
       "      <td>78173</td>\n",
       "      <td>444573.814536</td>\n",
       "    </tr>\n",
       "    <tr>\n",
       "      <th>2508263</th>\n",
       "      <td>1150</td>\n",
       "      <td>54832</td>\n",
       "      <td>444573.814536</td>\n",
       "    </tr>\n",
       "  </tbody>\n",
       "</table>\n",
       "</div>"
      ],
      "text/plain": [
       "         calculatedfinishedsquarefeet  taxvaluedollarcnt       baseline\n",
       "2086451                          1746             329842  444573.814536\n",
       "1608617                          1503             378681  444573.814536\n",
       "854792                           2469            3464540  444573.814536\n",
       "2066831                          1507              78173  444573.814536\n",
       "2508263                          1150              54832  444573.814536"
      ]
     },
     "execution_count": 9,
     "metadata": {},
     "output_type": "execute_result"
    }
   ],
   "source": [
    "train['baseline'] = train.taxvaluedollarcnt.mean()\n",
    "train.head()"
   ]
  },
  {
   "cell_type": "code",
   "execution_count": 10,
   "id": "a3b0e3d5-e504-4bbb-84dc-ecdadf1deb13",
   "metadata": {},
   "outputs": [
    {
     "data": {
      "text/plain": [
       "Text(0.5, 1.0, 'Baseline model')"
      ]
     },
     "execution_count": 10,
     "metadata": {},
     "output_type": "execute_result"
    },
    {
     "data": {
      "image/png": "[encoded data removed]",
      "text/plain": [
       "<Figure size 432x288 with 1 Axes>"
      ]
     },
     "metadata": {
      "needs_background": "light"
     },
     "output_type": "display_data"
    }
   ],
   "source": [
    "plt.scatter(train.calculatedfinishedsquarefeet, train.taxvaluedollarcnt)\n",
    "plt.axhline(train.taxvaluedollarcnt.mean(), ls = ':')\n",
    "plt.xlabel('x = Square Feet')\n",
    "plt.ylabel('y = Tax Assessed Value')\n",
    "plt.title('Baseline model')"
   ]
  },
  {
   "cell_type": "code",
   "execution_count": 11,
   "id": "d94542ce-d6e4-4d6b-a119-3d97620b1384",
   "metadata": {},
   "outputs": [],
   "source": [
    "model = LinearRegression().fit(X_train, y_train)\n",
    "predictions = model.predict(X_train)"
   ]
  },
  {
   "cell_type": "code",
   "execution_count": 12,
   "id": "666103cf-d7c6-4827-a08d-8d18c6c6158d",
   "metadata": {},
   "outputs": [],
   "source": [
    "train['yhat'] = predictions"
   ]
  },
  {
   "cell_type": "code",
   "execution_count": 13,
   "id": "c6a0d90a-cc32-458c-923f-2febda11f310",
   "metadata": {},
   "outputs": [
    {
     "data": {
      "text/html": [
       "<div>\n",
       "<style scoped>\n",
       "    .dataframe tbody tr th:only-of-type {\n",
       "        vertical-align: middle;\n",
       "    }\n",
       "\n",
       "    .dataframe tbody tr th {\n",
       "        vertical-align: top;\n",
       "    }\n",
       "\n",
       "    .dataframe thead th {\n",
       "        text-align: right;\n",
       "    }\n",
       "</style>\n",
       "<table border=\"1\" class=\"dataframe\">\n",
       "  <thead>\n",
       "    <tr style=\"text-align: right;\">\n",
       "      <th></th>\n",
       "      <th>calculatedfinishedsquarefeet</th>\n",
       "      <th>taxvaluedollarcnt</th>\n",
       "      <th>baseline</th>\n",
       "      <th>yhat</th>\n",
       "    </tr>\n",
       "  </thead>\n",
       "  <tbody>\n",
       "    <tr>\n",
       "      <th>2086451</th>\n",
       "      <td>1746</td>\n",
       "      <td>329842</td>\n",
       "      <td>444573.814536</td>\n",
       "      <td>425058.182176</td>\n",
       "    </tr>\n",
       "    <tr>\n",
       "      <th>1608617</th>\n",
       "      <td>1503</td>\n",
       "      <td>378681</td>\n",
       "      <td>444573.814536</td>\n",
       "      <td>372169.761399</td>\n",
       "    </tr>\n",
       "    <tr>\n",
       "      <th>854792</th>\n",
       "      <td>2469</td>\n",
       "      <td>3464540</td>\n",
       "      <td>444573.814536</td>\n",
       "      <td>582417.557576</td>\n",
       "    </tr>\n",
       "    <tr>\n",
       "      <th>2066831</th>\n",
       "      <td>1507</td>\n",
       "      <td>78173</td>\n",
       "      <td>444573.814536</td>\n",
       "      <td>373040.352687</td>\n",
       "    </tr>\n",
       "    <tr>\n",
       "      <th>2508263</th>\n",
       "      <td>1150</td>\n",
       "      <td>54832</td>\n",
       "      <td>444573.814536</td>\n",
       "      <td>295340.080187</td>\n",
       "    </tr>\n",
       "  </tbody>\n",
       "</table>\n",
       "</div>"
      ],
      "text/plain": [
       "         calculatedfinishedsquarefeet  taxvaluedollarcnt       baseline  \\\n",
       "2086451                          1746             329842  444573.814536   \n",
       "1608617                          1503             378681  444573.814536   \n",
       "854792                           2469            3464540  444573.814536   \n",
       "2066831                          1507              78173  444573.814536   \n",
       "2508263                          1150              54832  444573.814536   \n",
       "\n",
       "                  yhat  \n",
       "2086451  425058.182176  \n",
       "1608617  372169.761399  \n",
       "854792   582417.557576  \n",
       "2066831  373040.352687  \n",
       "2508263  295340.080187  "
      ]
     },
     "execution_count": 13,
     "metadata": {},
     "output_type": "execute_result"
    }
   ],
   "source": [
    "train.head()"
   ]
  },
  {
   "cell_type": "code",
   "execution_count": 14,
   "id": "dd5c7dab-e206-403a-90ba-6b7074ea305d",
   "metadata": {},
   "outputs": [
    {
     "data": {
      "text/plain": [
       "Text(0.5, 1.0, 'OLS linear model')"
      ]
     },
     "execution_count": 14,
     "metadata": {},
     "output_type": "execute_result"
    },
    {
     "data": {
      "image/png": "[encoded data removed]",
      "text/plain": [
       "<Figure size 432x288 with 1 Axes>"
      ]
     },
     "metadata": {
      "needs_background": "light"
     },
     "output_type": "display_data"
    }
   ],
   "source": [
    "plt.scatter(train.calculatedfinishedsquarefeet, train.taxvaluedollarcnt)\n",
    "plt.plot(train.calculatedfinishedsquarefeet, train.yhat)\n",
    "plt.xlabel('x = Square Feet')\n",
    "plt.ylabel('y = Tax Assessed Value')\n",
    "plt.title('OLS linear model')"
   ]
  },
  {
   "cell_type": "markdown",
   "id": "6066bfaf-b0b9-4873-9e22-763f8fdf7c7a",
   "metadata": {},
   "source": [
    "3. Plot the residuals for the linear regression model that you made."
   ]
  },
  {
   "cell_type": "code",
   "execution_count": 15,
   "id": "9ccabdcb-5877-4be9-8f4a-02a883f9813d",
   "metadata": {},
   "outputs": [],
   "source": [
    "# calculates the residual for my model and for my baseline by subtracting the \n",
    "# predicted value from the actual value\n",
    "train['residual'] = train.taxvaluedollarcnt - train.yhat\n",
    "train['baseline_residual'] = train.taxvaluedollarcnt - train.baseline"
   ]
  },
  {
   "cell_type": "code",
   "execution_count": 16,
   "id": "bf0f2234-2a7f-46c8-8d1a-e161f2f2c303",
   "metadata": {},
   "outputs": [
    {
     "data": {
      "text/plain": [
       "Text(0.5, 1.0, 'OLS model residuals')"
      ]
     },
     "execution_count": 16,
     "metadata": {},
     "output_type": "execute_result"
    },
    {
     "data": {
      "image/png": "[encoded data removed]",
      "text/plain": [
       "<Figure size 792x360 with 2 Axes>"
      ]
     },
     "metadata": {
      "needs_background": "light"
     },
     "output_type": "display_data"
    }
   ],
   "source": [
    "plt.figure(figsize = (11,5))\n",
    "\n",
    "plt.subplot(121)\n",
    "plt.scatter(train.calculatedfinishedsquarefeet, train.baseline_residual)\n",
    "plt.axhline(y = 0, ls = ':', color='red')\n",
    "plt.xlabel('Square Feet')\n",
    "plt.ylabel('Residual')\n",
    "plt.title('Baseline Residuals')\n",
    "\n",
    "plt.subplot(122)\n",
    "plt.scatter(train.calculatedfinishedsquarefeet, train.residual)\n",
    "plt.axhline(y = 0, ls = ':', color ='red')\n",
    "plt.xlabel('Square Feet')\n",
    "plt.ylabel('Residual')\n",
    "plt.title('OLS model residuals')"
   ]
  },
  {
   "cell_type": "code",
   "execution_count": 17,
   "id": "e0512cae-66f2-4ad2-92a8-c3c400befa30",
   "metadata": {},
   "outputs": [],
   "source": [
    "baseline_residual_min = train.baseline_residual.min()\n",
    "baseline_residual_max = train.baseline_residual.max()\n",
    "residual_min = train.residual.min()\n",
    "residual_max = train.residual.max()"
   ]
  },
  {
   "cell_type": "code",
   "execution_count": 18,
   "id": "ec9bd98b-816a-4ffe-8569-9374ced10c2e",
   "metadata": {},
   "outputs": [
    {
     "name": "stdout",
     "output_type": "stream",
     "text": [
      "Negative Residual = Prediction too high\n",
      "Positive Residual = Prediction too low\n"
     ]
    },
    {
     "data": {
      "image/png": "[encoded data removed]",
      "text/plain": [
       "<Figure size 792x360 with 2 Axes>"
      ]
     },
     "metadata": {
      "needs_background": "light"
     },
     "output_type": "display_data"
    }
   ],
   "source": [
    "plt.figure(figsize = (11,5))\n",
    "\n",
    "plt.subplot(121)\n",
    "plt.scatter(train.calculatedfinishedsquarefeet, train.baseline_residual, alpha=.05)\n",
    "plt.axhline(y = 0, ls = ':', color = 'red')\n",
    "plt.xlim(0,5000)\n",
    "plt.ylim(baseline_residual_min, baseline_residual_max)\n",
    "plt.xlabel('Square Feet')\n",
    "plt.ylabel('Residual')\n",
    "plt.title('Baseline Residuals')\n",
    "\n",
    "plt.subplot(122)\n",
    "plt.scatter(train.calculatedfinishedsquarefeet, train.residual, alpha=0.05)\n",
    "plt.axhline(y = 0, ls = ':', color ='red')\n",
    "plt.xlim(0,5000)\n",
    "plt.ylim(-1_000_000, residual_max)\n",
    "plt.xlabel('Square Feet')\n",
    "plt.ylabel('Residual')\n",
    "plt.title('OLS model residuals')\n",
    "print(\"Negative Residual = Prediction too high\")\n",
    "print(\"Positive Residual = Prediction too low\")"
   ]
  },
  {
   "cell_type": "code",
   "execution_count": 19,
   "id": "9a9bcd69-a069-41df-ba8c-33dc7f9b58bf",
   "metadata": {},
   "outputs": [
    {
     "data": {
      "image/png": "[encoded data removed]",
      "text/plain": [
       "<Figure size 432x288 with 1 Axes>"
      ]
     },
     "metadata": {
      "needs_background": "light"
     },
     "output_type": "display_data"
    }
   ],
   "source": [
    "# Residual plot (y vs residual)\n",
    "actual = train.taxvaluedollarcnt\n",
    "predicted = train.yhat\n",
    "residuals = actual - predicted\n",
    "plt.hlines(0, actual.min(), actual.max(), ls=':')\n",
    "plt.scatter(actual, residuals)\n",
    "plt.ylabel('residual ($y - \\hat{y}$)')\n",
    "plt.xlabel('actual value ($y$)')\n",
    "plt.title('Actual vs Residual')\n",
    "plt.show()"
   ]
  },
  {
   "cell_type": "markdown",
   "id": "8d2672c0-c5f7-46d0-8898-19640753f538",
   "metadata": {},
   "source": [
    "4. Calculate the sum of squared errors, explained sum of squares, total sum of squares, mean squared error, and root mean squared error for your model."
   ]
  },
  {
   "cell_type": "markdown",
   "id": "d22d40d8-7478-4fa3-a942-67a77129ae11",
   "metadata": {},
   "source": [
    "5. Calculate the sum of squared errors, mean squared error, and root mean squared error for the baseline model (i.e. a model that always predicts the average taxvaluedollarcnt amount)."
   ]
  },
  {
   "cell_type": "code",
   "execution_count": 20,
   "id": "292c5c69-b26c-4c96-89c7-ca4e2a635af5",
   "metadata": {},
   "outputs": [
    {
     "data": {
      "text/html": [
       "<div>\n",
       "<style scoped>\n",
       "    .dataframe tbody tr th:only-of-type {\n",
       "        vertical-align: middle;\n",
       "    }\n",
       "\n",
       "    .dataframe tbody tr th {\n",
       "        vertical-align: top;\n",
       "    }\n",
       "\n",
       "    .dataframe thead th {\n",
       "        text-align: right;\n",
       "    }\n",
       "</style>\n",
       "<table border=\"1\" class=\"dataframe\">\n",
       "  <thead>\n",
       "    <tr style=\"text-align: right;\">\n",
       "      <th></th>\n",
       "      <th>calculatedfinishedsquarefeet</th>\n",
       "      <th>taxvaluedollarcnt</th>\n",
       "      <th>baseline</th>\n",
       "      <th>yhat</th>\n",
       "      <th>residual</th>\n",
       "      <th>baseline_residual</th>\n",
       "      <th>residual^2</th>\n",
       "      <th>baseline_residual^2</th>\n",
       "    </tr>\n",
       "  </thead>\n",
       "  <tbody>\n",
       "    <tr>\n",
       "      <th>2086451</th>\n",
       "      <td>1746</td>\n",
       "      <td>329842</td>\n",
       "      <td>444573.814536</td>\n",
       "      <td>425058.182176</td>\n",
       "      <td>-95216.182176</td>\n",
       "      <td>-114731.814536</td>\n",
       "      <td>9.066121e+09</td>\n",
       "      <td>1.316339e+10</td>\n",
       "    </tr>\n",
       "  </tbody>\n",
       "</table>\n",
       "</div>"
      ],
      "text/plain": [
       "         calculatedfinishedsquarefeet  taxvaluedollarcnt       baseline  \\\n",
       "2086451                          1746             329842  444573.814536   \n",
       "\n",
       "                  yhat      residual  baseline_residual    residual^2  \\\n",
       "2086451  425058.182176 -95216.182176     -114731.814536  9.066121e+09   \n",
       "\n",
       "         baseline_residual^2  \n",
       "2086451         1.316339e+10  "
      ]
     },
     "execution_count": 20,
     "metadata": {},
     "output_type": "execute_result"
    }
   ],
   "source": [
    "train['residual^2'] = train.residual**2\n",
    "train['baseline_residual^2'] = train.baseline_residual**2\n",
    "\n",
    "train.head(1)"
   ]
  },
  {
   "cell_type": "markdown",
   "id": "6a5bc4d6-ed50-4797-a11f-a1ae08a82843",
   "metadata": {},
   "source": [
    "Calculating SSE"
   ]
  },
  {
   "cell_type": "code",
   "execution_count": 21,
   "id": "ee242c89-8f8d-4a09-9355-54b60399aa66",
   "metadata": {},
   "outputs": [
    {
     "name": "stdout",
     "output_type": "stream",
     "text": [
      "SSE = 592941757755888768.0\n",
      "SSE Baseline = 849829063762983680.0\n"
     ]
    }
   ],
   "source": [
    "SSE = train['residual^2'].sum()\n",
    "SSE_baseline = train['baseline_residual^2'].sum()\n",
    "\n",
    "print('SSE =', \"{:.1f}\".format(SSE))\n",
    "print(\"SSE Baseline =\", \"{:.1f}\".format(SSE_baseline))"
   ]
  },
  {
   "cell_type": "code",
   "execution_count": 22,
   "id": "57a920a4-1aed-469c-aabd-a87bd4a0d64d",
   "metadata": {},
   "outputs": [
    {
     "data": {
      "text/plain": [
       "True"
      ]
     },
     "execution_count": 22,
     "metadata": {},
     "output_type": "execute_result"
    }
   ],
   "source": [
    "SSE < SSE_baseline"
   ]
  },
  {
   "cell_type": "markdown",
   "id": "0a642426-6837-4c6f-8743-401212bb67fb",
   "metadata": {},
   "source": [
    "Calculating MSE"
   ]
  },
  {
   "cell_type": "code",
   "execution_count": 23,
   "id": "1e3e6620-3bee-4be8-840b-422c6b562468",
   "metadata": {},
   "outputs": [
    {
     "data": {
      "text/plain": [
       "1632328"
      ]
     },
     "execution_count": 23,
     "metadata": {},
     "output_type": "execute_result"
    }
   ],
   "source": [
    "len(train)\n",
    "train.shape[0]"
   ]
  },
  {
   "cell_type": "code",
   "execution_count": 24,
   "id": "314025eb-d3ee-4a4c-b1bf-eb1a29d015e4",
   "metadata": {},
   "outputs": [
    {
     "name": "stdout",
     "output_type": "stream",
     "text": [
      "MSE =  363249149531.2\n",
      "MSE baseline =  520623957784.8\n"
     ]
    }
   ],
   "source": [
    "MSE = SSE/len(train)\n",
    "MSE_baseline = SSE_baseline/len(train)\n",
    "\n",
    "print(\"MSE = \", \"{:.1f}\".format(MSE))\n",
    "print(\"MSE baseline = \", \"{:.1f}\".format(MSE_baseline))"
   ]
  },
  {
   "cell_type": "markdown",
   "id": "2f4f7aba-2f4b-4fb3-b023-e43c0b3c8e1e",
   "metadata": {},
   "source": [
    "Calculating RMSE"
   ]
  },
  {
   "cell_type": "code",
   "execution_count": 25,
   "id": "b2df40cc-5805-4040-afb3-5ddaa1e87c6b",
   "metadata": {},
   "outputs": [
    {
     "name": "stdout",
     "output_type": "stream",
     "text": [
      "RMSE =  602701.5\n",
      "RMSE baseline =  721542.8\n"
     ]
    }
   ],
   "source": [
    "from math import sqrt\n",
    "RMSE = sqrt(MSE)\n",
    "RMSE_baseline =  sqrt(MSE_baseline)\n",
    "\n",
    "\n",
    "print(\"RMSE = \", \"{:.1f}\".format(RMSE))\n",
    "print(\"RMSE baseline = \", \"{:.1f}\".format(RMSE_baseline))"
   ]
  },
  {
   "cell_type": "markdown",
   "id": "d71b2165-5fd9-48b0-814c-bbe2107ca7db",
   "metadata": {},
   "source": [
    "6. Write python code that compares the sum of squared errors for your model against the sum of squared errors for the baseline model and outputs whether or not your model performs better than the baseline model."
   ]
  },
  {
   "cell_type": "code",
   "execution_count": 26,
   "id": "96e67099-e969-4369-91aa-30225fe79fc3",
   "metadata": {},
   "outputs": [
    {
     "name": "stdout",
     "output_type": "stream",
     "text": [
      "OLS Regression Model Performs Better than Baseline\n"
     ]
    }
   ],
   "source": [
    "if SSE < SSE_baseline:\n",
    "    print('OLS Regression Model Performs Better than Baseline')\n",
    "else:\n",
    "    print('OLS Regression Model Performs Worse than Baseline')"
   ]
  },
  {
   "cell_type": "markdown",
   "id": "3e65c98e-763c-4ccc-83e1-3aae6c87d2c2",
   "metadata": {},
   "source": [
    "7. What is the amount of variance explained in your model?"
   ]
  },
  {
   "cell_type": "code",
   "execution_count": 29,
   "id": "060c78da-8b2a-4d52-9ffe-6c57d64e473a",
   "metadata": {},
   "outputs": [
    {
     "data": {
      "text/plain": [
       "0.30228114918736226"
      ]
     },
     "execution_count": 29,
     "metadata": {},
     "output_type": "execute_result"
    }
   ],
   "source": [
    "# calculates the R2 score\n",
    "\n",
    "from sklearn.metrics import r2_score\n",
    "r2_score(train.taxvaluedollarcnt, train.yhat)"
   ]
  },
  {
   "cell_type": "markdown",
   "id": "c30b3733-0ca9-43fd-b6e2-f47f4cf2b9b7",
   "metadata": {},
   "source": [
    "8. Is your model better than the baseline model?"
   ]
  },
  {
   "cell_type": "code",
   "execution_count": 30,
   "id": "0d7a45c6-4b37-48d8-813e-d5d02767eacb",
   "metadata": {},
   "outputs": [
    {
     "name": "stdout",
     "output_type": "stream",
     "text": [
      "                            OLS Regression Results                            \n",
      "==============================================================================\n",
      "Dep. Variable:      taxvaluedollarcnt   R-squared:                       0.302\n",
      "Model:                            OLS   Adj. R-squared:                  0.302\n",
      "Method:                 Least Squares   F-statistic:                 7.072e+05\n",
      "Date:                Mon, 13 Jun 2022   Prob (F-statistic):               0.00\n",
      "Time:                        11:21:22   Log-Likelihood:            -2.4041e+07\n",
      "No. Observations:             1632328   AIC:                         4.808e+07\n",
      "Df Residuals:                 1632326   BIC:                         4.808e+07\n",
      "Df Model:                           1                                         \n",
      "Covariance Type:            nonrobust                                         \n",
      "================================================================================================\n",
      "                                   coef    std err          t      P>|t|      [0.025      0.975]\n",
      "------------------------------------------------------------------------------------------------\n",
      "const                         4.505e+04    669.514     67.280      0.000    4.37e+04    4.64e+04\n",
      "calculatedfinishedsquarefeet   217.6478      0.259    840.947      0.000     217.141     218.155\n",
      "==============================================================================\n",
      "Omnibus:                  3420916.667   Durbin-Watson:                   2.000\n",
      "Prob(Omnibus):                  0.000   Jarque-Bera (JB):    7264636737714.428\n",
      "Skew:                          15.977   Prob(JB):                         0.00\n",
      "Kurtosis:                   10337.912   Cond. No.                     3.67e+03\n",
      "==============================================================================\n",
      "\n",
      "Notes:\n",
      "[1] Standard Errors assume that the covariance matrix of the errors is correctly specified.\n",
      "[2] The condition number is large, 3.67e+03. This might indicate that there are\n",
      "strong multicollinearity or other numerical problems.\n"
     ]
    }
   ],
   "source": [
    "X2 = sm.add_constant(train.calculatedfinishedsquarefeet)\n",
    "est = sm.OLS(train.taxvaluedollarcnt, X2)\n",
    "est2 = est.fit()\n",
    "print(est2.summary())"
   ]
  },
  {
   "cell_type": "markdown",
   "id": "7fb0d7dc-f0fd-447c-8522-b41383f3660f",
   "metadata": {},
   "source": [
    "9. Create a file named `evaluate.py` that contains the following functions.\n",
    "\n",
    "`plot_residuals(y, yhat)`: creates a residual plot\n",
    "`regression_errors(y, yhat)`: returns the following values:\n",
    "- sum of squared errors (SSE)\n",
    "- explained sum of squares (ESS)\n",
    "- total sum of squares (TSS)\n",
    "- mean squared error (MSE)\n",
    "- root mean squared error (RMSE)\n",
    "`baseline_mean_errors(y)`: computes the SSE, MSE, and RMSE for the baseline model\n",
    "`better_than_baseline(y, yhat)`: returns true if your model performs better than the baseline, otherwise false"
   ]
  },
  {
   "cell_type": "code",
   "execution_count": null,
   "id": "00b3cdfb-5d91-48dc-8272-e9716304ac41",
   "metadata": {},
   "outputs": [],
   "source": [
    "def plot_residuals(actual, predicted):\n",
    "    residuals = actual - predicted\n",
    "    plt.hlines(0, actual.min(), actual.max(), ls=':')\n",
    "    plt.scatter(actual, residuals)\n",
    "    plt.ylabel('residual ($y - \\hat{y}$)')\n",
    "    plt.xlabel('actual value ($y$)')\n",
    "    plt.title('Actual vs Residual')\n",
    "    plt.show()"
   ]
  },
  {
   "cell_type": "code",
   "execution_count": 31,
   "id": "2e7c02a5-8a38-44a9-93a4-c0d00f77eb9a",
   "metadata": {},
   "outputs": [],
   "source": [
    "def residuals(actual, predicted):\n",
    "    return actual - predicted\n",
    "\n",
    "def sse(actual, predicted):\n",
    "    return (residuals(actual, predicted) **2).sum()\n",
    "\n",
    "def mse(actual, predicted):\n",
    "    n = actual.shape[0]\n",
    "    return sse(actual, predicted) / n\n",
    "\n",
    "def rmse(actual, predicted):\n",
    "    return math.sqrt(mse(actual, predicted))\n",
    "\n",
    "def ess(actual, predicted):\n",
    "    return ((predicted - actual.mean()) ** 2).sum()\n",
    "\n",
    "def tss(actual):\n",
    "    return ((actual - actual.mean()) ** 2).sum()\n",
    "\n",
    "def r2_score(actual, predicted):\n",
    "    return ess(actual, predicted) / tss(actual)"
   ]
  },
  {
   "cell_type": "markdown",
   "id": "7eb2419c-9d1b-4dcb-abc7-97fa80534773",
   "metadata": {},
   "source": [
    "Bonus Exercises"
   ]
  },
  {
   "cell_type": "markdown",
   "id": "9036e2a7-55d6-4010-9e6b-40b688bb6eb8",
   "metadata": {},
   "source": [
    "1. Load the `tips` dataset from either `pydataset` or `seaborn`. Fit a linear regression model (ordinary least squares) and compute yhat, predictions of tip using total_bill."
   ]
  },
  {
   "cell_type": "markdown",
   "id": "e1a9aa34-1499-41bd-85e2-6e99b34e5033",
   "metadata": {},
   "source": [
    "2. Load the `mpg` dataset and fit a model that predicts highway mileage based on engine displacement. Take a look at all the regression evaluation metrics, and determine whether this model is better than the baseline model. Use the functions from your `evaluate.py` to help accomplish this."
   ]
  },
  {
   "cell_type": "code",
   "execution_count": null,
   "id": "05b6462b-cb07-42a5-a61b-ce81eebe9ac2",
   "metadata": {},
   "outputs": [],
   "source": []
  }
 ],
 "metadata": {
  "kernelspec": {
   "display_name": "Python 3 (ipykernel)",
   "language": "python",
   "name": "python3"
  },
  "language_info": {
   "codemirror_mode": {
    "name": "ipython",
    "version": 3
   },
   "file_extension": ".py",
   "mimetype": "text/x-python",
   "name": "python",
   "nbconvert_exporter": "python",
   "pygments_lexer": "ipython3",
   "version": "3.9.7"
  }
 },
 "nbformat": 4,
 "nbformat_minor": 5
}
