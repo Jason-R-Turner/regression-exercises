{
 "cells": [
  {
   "cell_type": "markdown",
   "id": "8246c532-a722-4c0f-b574-d480bb9bb24e",
   "metadata": {},
   "source": [
    "# Exploration Exercises"
   ]
  },
  {
   "cell_type": "markdown",
   "id": "52e7f7d1-bde0-42d0-b4ea-372507a21e5a",
   "metadata": {},
   "source": [
    "1. As with encoded vs. unencoded data, we recommend exploring un-scaled data in your EDA process."
   ]
  },
  {
   "cell_type": "code",
   "execution_count": null,
   "id": "7efaca82-8979-43cb-b035-3b9f2a4a6943",
   "metadata": {},
   "outputs": [],
   "source": []
  },
  {
   "cell_type": "markdown",
   "id": "8d93549c-6cf8-41e0-a994-62c408c587d7",
   "metadata": {},
   "source": [
    "2. Make sure to perform a train, validate, test split before and use only your train dataset to explore the relationships between independent variables with other independent variables or independent variables with your target variable."
   ]
  },
  {
   "cell_type": "code",
   "execution_count": null,
   "id": "d87975ab-6f44-4adb-a420-14c2591a1aa6",
   "metadata": {},
   "outputs": [],
   "source": []
  },
  {
   "cell_type": "markdown",
   "id": "558ba425-65a5-4528-a8b5-8248ba3049e4",
   "metadata": {},
   "source": [
    "3. Write a function named plot_variable_pairs that accepts a dataframe as input and plots all of the pairwise relationships along with the regression line for each pair."
   ]
  },
  {
   "cell_type": "code",
   "execution_count": null,
   "id": "294f909d-bfde-43ba-8b22-135813081c4a",
   "metadata": {},
   "outputs": [],
   "source": []
  },
  {
   "cell_type": "markdown",
   "id": "ff0eae1b-c911-4810-b7bf-5c3a37865cbf",
   "metadata": {},
   "source": [
    "4. Write a function named plot_categorical_and_continuous_vars that accepts your dataframe and the name of the columns that hold the continuous and categorical features and outputs 3 different plots for visualizing a categorical variable and a continuous variable."
   ]
  },
  {
   "cell_type": "code",
   "execution_count": null,
   "id": "7ad87b22-ca19-4eb9-b21d-edcfa854dea6",
   "metadata": {},
   "outputs": [],
   "source": []
  },
  {
   "cell_type": "markdown",
   "id": "52921285-7f4b-4b52-a473-9903512963af",
   "metadata": {},
   "source": [
    "5. Save the functions you have written to create visualizations in your explore.py file. Rewrite your notebook code so that you are using the functions imported from this file."
   ]
  },
  {
   "cell_type": "code",
   "execution_count": null,
   "id": "e9c61114-1438-4bfb-a1b1-2553d2e229ed",
   "metadata": {},
   "outputs": [],
   "source": []
  },
  {
   "cell_type": "markdown",
   "id": "c53c3951-35a1-4790-9d78-67ee7de482ae",
   "metadata": {},
   "source": [
    "6. Use the functions you created above to explore your Zillow train dataset in your explore.ipynb notebook."
   ]
  },
  {
   "cell_type": "code",
   "execution_count": null,
   "id": "311b134f-323f-4694-b88e-342e6e089e90",
   "metadata": {},
   "outputs": [],
   "source": []
  },
  {
   "cell_type": "markdown",
   "id": "cac9d729-d9ec-4d63-8151-85669d88fd7a",
   "metadata": {},
   "source": [
    "7. Come up with some initial hypotheses based on your goal of predicting property value."
   ]
  },
  {
   "cell_type": "code",
   "execution_count": null,
   "id": "d6a1448d-aa5a-4797-961d-e8261122c4f4",
   "metadata": {},
   "outputs": [],
   "source": []
  },
  {
   "cell_type": "markdown",
   "id": "3e51acf1-c642-448b-95a7-2454951a2cbf",
   "metadata": {},
   "source": [
    "8. Visualize all combinations of variables in some way."
   ]
  },
  {
   "cell_type": "code",
   "execution_count": null,
   "id": "87475ecc-3ff1-4fc7-91d5-bfe77eb491e9",
   "metadata": {},
   "outputs": [],
   "source": []
  },
  {
   "cell_type": "markdown",
   "id": "c52fe203-3090-44cb-9621-4c27e9c59460",
   "metadata": {},
   "source": [
    "9. Run the appropriate statistical tests where needed."
   ]
  },
  {
   "cell_type": "code",
   "execution_count": null,
   "id": "23d4e3f3-4361-4442-b800-7654bb491c7d",
   "metadata": {},
   "outputs": [],
   "source": []
  },
  {
   "cell_type": "markdown",
   "id": "94c01442-b46d-4478-98d4-9d438de20b43",
   "metadata": {},
   "source": [
    "10. What independent variables are correlated with the dependent variable, home value?"
   ]
  },
  {
   "cell_type": "code",
   "execution_count": null,
   "id": "ad258737-2d93-4613-a95f-a26d260ede2d",
   "metadata": {},
   "outputs": [],
   "source": []
  },
  {
   "cell_type": "markdown",
   "id": "4342ba91-9885-4b64-86f9-42df7f89b4d0",
   "metadata": {},
   "source": [
    "11. Which independent variables are correlated with other independent variables (bedrooms, bathrooms, year built, square feet)?"
   ]
  },
  {
   "cell_type": "code",
   "execution_count": null,
   "id": "75e5471a-17c6-4d59-bf83-965a8b6a453d",
   "metadata": {},
   "outputs": [],
   "source": []
  },
  {
   "cell_type": "markdown",
   "id": "a2e6c333-0b26-4b59-9f4f-ff568bd28c94",
   "metadata": {},
   "source": [
    "12. Make sure to document your takeaways from visualizations and statistical tests as well as the decisions you make throughout your process."
   ]
  },
  {
   "cell_type": "code",
   "execution_count": null,
   "id": "6a9922ea-e79d-4d62-835c-6ae559713f49",
   "metadata": {},
   "outputs": [],
   "source": []
  },
  {
   "cell_type": "markdown",
   "id": "ad53b9da-1c11-4969-ba1c-dfa93895be3c",
   "metadata": {},
   "source": [
    "13. Explore your dataset with any other visualizations you think will be helpful."
   ]
  },
  {
   "cell_type": "code",
   "execution_count": null,
   "id": "1feeb0b1-5717-4fe9-bf84-8a19b65a51ea",
   "metadata": {},
   "outputs": [],
   "source": []
  },
  {
   "cell_type": "code",
   "execution_count": null,
   "id": "8c1c68f4-c124-4ee8-b4d9-42aba72ffa8d",
   "metadata": {},
   "outputs": [],
   "source": []
  }
 ],
 "metadata": {
  "kernelspec": {
   "display_name": "Python 3 (ipykernel)",
   "language": "python",
   "name": "python3"
  },
  "language_info": {
   "codemirror_mode": {
    "name": "ipython",
    "version": 3
   },
   "file_extension": ".py",
   "mimetype": "text/x-python",
   "name": "python",
   "nbconvert_exporter": "python",
   "pygments_lexer": "ipython3",
   "version": "3.9.7"
  }
 },
 "nbformat": 4,
 "nbformat_minor": 5
}
