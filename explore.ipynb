{
 "cells": [
  {
   "cell_type": "markdown",
   "id": "8246c532-a722-4c0f-b574-d480bb9bb24e",
   "metadata": {},
   "source": [
    "# Exploration Exercises"
   ]
  },
  {
   "cell_type": "markdown",
   "id": "52e7f7d1-bde0-42d0-b4ea-372507a21e5a",
   "metadata": {},
   "source": [
    "1. As with encoded vs. unencoded data, we recommend exploring un-scaled data in your EDA process."
   ]
  },
  {
   "cell_type": "code",
   "execution_count": 3,
   "id": "7efaca82-8979-43cb-b035-3b9f2a4a6943",
   "metadata": {},
   "outputs": [],
   "source": [
    "import matplotlib.pyplot as plt\n",
    "import numpy as np\n",
    "import pandas as pd\n",
    "from scipy import stats\n",
    "import matplotlib.pyplot as plt\n",
    "import seaborn as sns\n",
    "from scipy.stats import pearsonr, spearmanr\n",
    "from sklearn.model_selection import train_test_split\n",
    "\n",
    "\n",
    "# turn off pink warning boxes\n",
    "import warnings\n",
    "warnings.filterwarnings(\"ignore\")\n",
    "\n",
    "# acquire data\n",
    "import env\n",
    "import wrangle"
   ]
  },
  {
   "cell_type": "markdown",
   "id": "8d93549c-6cf8-41e0-a994-62c408c587d7",
   "metadata": {},
   "source": [
    "2. Make sure to perform a train, validate, test split before and use only your train dataset to explore the relationships between independent variables with other independent variables or independent variables with your target variable."
   ]
  },
  {
   "cell_type": "code",
   "execution_count": 2,
   "id": "d87975ab-6f44-4adb-a420-14c2591a1aa6",
   "metadata": {},
   "outputs": [
    {
     "data": {
      "text/html": [
       "<div>\n",
       "<style scoped>\n",
       "    .dataframe tbody tr th:only-of-type {\n",
       "        vertical-align: middle;\n",
       "    }\n",
       "\n",
       "    .dataframe tbody tr th {\n",
       "        vertical-align: top;\n",
       "    }\n",
       "\n",
       "    .dataframe thead th {\n",
       "        text-align: right;\n",
       "    }\n",
       "</style>\n",
       "<table border=\"1\" class=\"dataframe\">\n",
       "  <thead>\n",
       "    <tr style=\"text-align: right;\">\n",
       "      <th></th>\n",
       "      <th>bedroomcnt</th>\n",
       "      <th>bathroomcnt</th>\n",
       "      <th>calculatedfinishedsquarefeet</th>\n",
       "      <th>taxvaluedollarcnt</th>\n",
       "      <th>yearbuilt</th>\n",
       "      <th>taxamount</th>\n",
       "      <th>fips</th>\n",
       "    </tr>\n",
       "  </thead>\n",
       "  <tbody>\n",
       "    <tr>\n",
       "      <th>2086451</th>\n",
       "      <td>3</td>\n",
       "      <td>2.5</td>\n",
       "      <td>1746</td>\n",
       "      <td>329842</td>\n",
       "      <td>1979</td>\n",
       "      <td>3281.70</td>\n",
       "      <td>6059</td>\n",
       "    </tr>\n",
       "    <tr>\n",
       "      <th>1608617</th>\n",
       "      <td>2</td>\n",
       "      <td>2.0</td>\n",
       "      <td>1503</td>\n",
       "      <td>378681</td>\n",
       "      <td>1980</td>\n",
       "      <td>3779.86</td>\n",
       "      <td>6059</td>\n",
       "    </tr>\n",
       "    <tr>\n",
       "      <th>854792</th>\n",
       "      <td>4</td>\n",
       "      <td>4.0</td>\n",
       "      <td>2469</td>\n",
       "      <td>3464540</td>\n",
       "      <td>1950</td>\n",
       "      <td>41401.23</td>\n",
       "      <td>6037</td>\n",
       "    </tr>\n",
       "    <tr>\n",
       "      <th>2066831</th>\n",
       "      <td>2</td>\n",
       "      <td>1.0</td>\n",
       "      <td>1507</td>\n",
       "      <td>78173</td>\n",
       "      <td>1952</td>\n",
       "      <td>1477.34</td>\n",
       "      <td>6037</td>\n",
       "    </tr>\n",
       "    <tr>\n",
       "      <th>2508263</th>\n",
       "      <td>2</td>\n",
       "      <td>2.0</td>\n",
       "      <td>1150</td>\n",
       "      <td>54832</td>\n",
       "      <td>1966</td>\n",
       "      <td>1139.31</td>\n",
       "      <td>6037</td>\n",
       "    </tr>\n",
       "    <tr>\n",
       "      <th>...</th>\n",
       "      <td>...</td>\n",
       "      <td>...</td>\n",
       "      <td>...</td>\n",
       "      <td>...</td>\n",
       "      <td>...</td>\n",
       "      <td>...</td>\n",
       "      <td>...</td>\n",
       "    </tr>\n",
       "    <tr>\n",
       "      <th>2578047</th>\n",
       "      <td>1</td>\n",
       "      <td>1.0</td>\n",
       "      <td>678</td>\n",
       "      <td>294384</td>\n",
       "      <td>1990</td>\n",
       "      <td>3804.80</td>\n",
       "      <td>6059</td>\n",
       "    </tr>\n",
       "    <tr>\n",
       "      <th>972773</th>\n",
       "      <td>4</td>\n",
       "      <td>2.0</td>\n",
       "      <td>1392</td>\n",
       "      <td>173600</td>\n",
       "      <td>1955</td>\n",
       "      <td>2840.54</td>\n",
       "      <td>6037</td>\n",
       "    </tr>\n",
       "    <tr>\n",
       "      <th>2204227</th>\n",
       "      <td>3</td>\n",
       "      <td>2.0</td>\n",
       "      <td>1370</td>\n",
       "      <td>339532</td>\n",
       "      <td>1977</td>\n",
       "      <td>3854.74</td>\n",
       "      <td>6059</td>\n",
       "    </tr>\n",
       "    <tr>\n",
       "      <th>994295</th>\n",
       "      <td>2</td>\n",
       "      <td>3.0</td>\n",
       "      <td>1204</td>\n",
       "      <td>305000</td>\n",
       "      <td>1979</td>\n",
       "      <td>3747.38</td>\n",
       "      <td>6037</td>\n",
       "    </tr>\n",
       "    <tr>\n",
       "      <th>2977560</th>\n",
       "      <td>2</td>\n",
       "      <td>2.0</td>\n",
       "      <td>1280</td>\n",
       "      <td>394451</td>\n",
       "      <td>1986</td>\n",
       "      <td>4674.76</td>\n",
       "      <td>6037</td>\n",
       "    </tr>\n",
       "  </tbody>\n",
       "</table>\n",
       "<p>1632328 rows × 7 columns</p>\n",
       "</div>"
      ],
      "text/plain": [
       "         bedroomcnt  bathroomcnt  calculatedfinishedsquarefeet  \\\n",
       "2086451           3          2.5                          1746   \n",
       "1608617           2          2.0                          1503   \n",
       "854792            4          4.0                          2469   \n",
       "2066831           2          1.0                          1507   \n",
       "2508263           2          2.0                          1150   \n",
       "...             ...          ...                           ...   \n",
       "2578047           1          1.0                           678   \n",
       "972773            4          2.0                          1392   \n",
       "2204227           3          2.0                          1370   \n",
       "994295            2          3.0                          1204   \n",
       "2977560           2          2.0                          1280   \n",
       "\n",
       "         taxvaluedollarcnt  yearbuilt  taxamount  fips  \n",
       "2086451             329842       1979    3281.70  6059  \n",
       "1608617             378681       1980    3779.86  6059  \n",
       "854792             3464540       1950   41401.23  6037  \n",
       "2066831              78173       1952    1477.34  6037  \n",
       "2508263              54832       1966    1139.31  6037  \n",
       "...                    ...        ...        ...   ...  \n",
       "2578047             294384       1990    3804.80  6059  \n",
       "972773              173600       1955    2840.54  6037  \n",
       "2204227             339532       1977    3854.74  6059  \n",
       "994295              305000       1979    3747.38  6037  \n",
       "2977560             394451       1986    4674.76  6037  \n",
       "\n",
       "[1632328 rows x 7 columns]"
      ]
     },
     "execution_count": 2,
     "metadata": {},
     "output_type": "execute_result"
    }
   ],
   "source": [
    "train, validate, test = wrangle.wrangle_zillow()\n",
    "train"
   ]
  },
  {
   "cell_type": "markdown",
   "id": "558ba425-65a5-4528-a8b5-8248ba3049e4",
   "metadata": {},
   "source": [
    "3. Write a function named `plot_variable_pairs` that accepts a dataframe as input and plots all of the pairwise relationships along with the regression line for each pair."
   ]
  },
  {
   "cell_type": "code",
   "execution_count": 19,
   "id": "294f909d-bfde-43ba-8b22-135813081c4a",
   "metadata": {},
   "outputs": [],
   "source": [
    "def plot_variable_pairs(df):\n",
    "    paireg = sns.pairplot(df, kind=\"reg\", plot_kws={'line_kws':{'color':'red'}}, corner=True)\n",
    "    return paireg\n",
    "    "
   ]
  },
  {
   "cell_type": "code",
   "execution_count": null,
   "id": "924b9fd5-b389-471b-a6d1-8d5e1575ad53",
   "metadata": {},
   "outputs": [],
   "source": [
    "plot_variable_pairs(train[['bedroomcnt', 'bathroomcnt', 'calculatedfinishedsquarefeet', 'taxvaluedollarcnt', 'yearbuilt']])"
   ]
  },
  {
   "cell_type": "markdown",
   "id": "ff0eae1b-c911-4810-b7bf-5c3a37865cbf",
   "metadata": {},
   "source": [
    "4. Write a function named `plot_categorical_and_continuous_vars` that accepts your dataframe and the name of the columns that hold the continuous and categorical features and outputs 3 different plots for visualizing a categorical variable and a continuous variable."
   ]
  },
  {
   "cell_type": "code",
   "execution_count": null,
   "id": "7ad87b22-ca19-4eb9-b21d-edcfa854dea6",
   "metadata": {},
   "outputs": [],
   "source": [
    "def plot_categorical_and_continuous_vars(df):\n",
    "    "
   ]
  },
  {
   "cell_type": "markdown",
   "id": "52921285-7f4b-4b52-a473-9903512963af",
   "metadata": {},
   "source": [
    "5. Save the functions you have written to create visualizations in your explore.py file. Rewrite your notebook code so that you are using the functions imported from this file."
   ]
  },
  {
   "cell_type": "code",
   "execution_count": null,
   "id": "e9c61114-1438-4bfb-a1b1-2553d2e229ed",
   "metadata": {},
   "outputs": [],
   "source": []
  },
  {
   "cell_type": "markdown",
   "id": "c53c3951-35a1-4790-9d78-67ee7de482ae",
   "metadata": {},
   "source": [
    "6. Use the functions you created above to explore your Zillow train dataset in your explore.ipynb notebook."
   ]
  },
  {
   "cell_type": "code",
   "execution_count": null,
   "id": "311b134f-323f-4694-b88e-342e6e089e90",
   "metadata": {},
   "outputs": [],
   "source": []
  },
  {
   "cell_type": "markdown",
   "id": "cac9d729-d9ec-4d63-8151-85669d88fd7a",
   "metadata": {},
   "source": [
    "7. Come up with some initial hypotheses based on your goal of predicting property value."
   ]
  },
  {
   "cell_type": "code",
   "execution_count": null,
   "id": "d6a1448d-aa5a-4797-961d-e8261122c4f4",
   "metadata": {},
   "outputs": [],
   "source": []
  },
  {
   "cell_type": "markdown",
   "id": "3e51acf1-c642-448b-95a7-2454951a2cbf",
   "metadata": {},
   "source": [
    "8. Visualize all combinations of variables in some way."
   ]
  },
  {
   "cell_type": "code",
   "execution_count": null,
   "id": "87475ecc-3ff1-4fc7-91d5-bfe77eb491e9",
   "metadata": {},
   "outputs": [],
   "source": []
  },
  {
   "cell_type": "markdown",
   "id": "c52fe203-3090-44cb-9621-4c27e9c59460",
   "metadata": {},
   "source": [
    "9. Run the appropriate statistical tests where needed."
   ]
  },
  {
   "cell_type": "code",
   "execution_count": null,
   "id": "23d4e3f3-4361-4442-b800-7654bb491c7d",
   "metadata": {},
   "outputs": [],
   "source": []
  },
  {
   "cell_type": "markdown",
   "id": "94c01442-b46d-4478-98d4-9d438de20b43",
   "metadata": {},
   "source": [
    "10. What independent variables are correlated with the dependent variable, home value?"
   ]
  },
  {
   "cell_type": "code",
   "execution_count": null,
   "id": "ad258737-2d93-4613-a95f-a26d260ede2d",
   "metadata": {},
   "outputs": [],
   "source": []
  },
  {
   "cell_type": "markdown",
   "id": "4342ba91-9885-4b64-86f9-42df7f89b4d0",
   "metadata": {},
   "source": [
    "11. Which independent variables are correlated with other independent variables (bedrooms, bathrooms, year built, square feet)?"
   ]
  },
  {
   "cell_type": "code",
   "execution_count": null,
   "id": "75e5471a-17c6-4d59-bf83-965a8b6a453d",
   "metadata": {},
   "outputs": [],
   "source": []
  },
  {
   "cell_type": "markdown",
   "id": "a2e6c333-0b26-4b59-9f4f-ff568bd28c94",
   "metadata": {},
   "source": [
    "12. Make sure to document your takeaways from visualizations and statistical tests as well as the decisions you make throughout your process."
   ]
  },
  {
   "cell_type": "code",
   "execution_count": null,
   "id": "6a9922ea-e79d-4d62-835c-6ae559713f49",
   "metadata": {},
   "outputs": [],
   "source": []
  },
  {
   "cell_type": "markdown",
   "id": "ad53b9da-1c11-4969-ba1c-dfa93895be3c",
   "metadata": {},
   "source": [
    "13. Explore your dataset with any other visualizations you think will be helpful."
   ]
  },
  {
   "cell_type": "code",
   "execution_count": null,
   "id": "1feeb0b1-5717-4fe9-bf84-8a19b65a51ea",
   "metadata": {},
   "outputs": [],
   "source": []
  },
  {
   "cell_type": "code",
   "execution_count": null,
   "id": "8c1c68f4-c124-4ee8-b4d9-42aba72ffa8d",
   "metadata": {},
   "outputs": [],
   "source": []
  }
 ],
 "metadata": {
  "kernelspec": {
   "display_name": "Python 3 (ipykernel)",
   "language": "python",
   "name": "python3"
  },
  "language_info": {
   "codemirror_mode": {
    "name": "ipython",
    "version": 3
   },
   "file_extension": ".py",
   "mimetype": "text/x-python",
   "name": "python",
   "nbconvert_exporter": "python",
   "pygments_lexer": "ipython3",
   "version": "3.9.7"
  }
 },
 "nbformat": 4,
 "nbformat_minor": 5
}
