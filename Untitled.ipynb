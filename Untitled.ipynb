{
 "cells": [
  {
   "cell_type": "markdown",
   "id": "5226f6ea-7902-4776-8d11-b3b1d2efa83d",
   "metadata": {},
   "source": [
    "# Acquisition and Prep\n",
    "Goal is to predict the values of single unit properties using the obervations from 2017"
   ]
  },
  {
   "cell_type": "markdown",
   "id": "f27825fa-655c-46a3-aab6-2962f8b7479f",
   "metadata": {},
   "source": [
    "1. Acquire bedroomcnt, bathroomcnt, calculatedfinishedsquarefeet, taxvaluedollarcnt, yearbuilt, taxamount, and fips from the zillow database for all 'Single Family Residential' properties."
   ]
  },
  {
   "cell_type": "code",
   "execution_count": 1,
   "id": "1f157db1-6597-4528-8386-55416e4c47ed",
   "metadata": {},
   "outputs": [],
   "source": [
    "# prepare\n",
    "import pandas as pd\n",
    "import numpy as np\n",
    "import wrangle\n",
    "\n",
    "# turn off pink warning boxes\n",
    "import warnings\n",
    "warnings.filterwarnings(\"ignore\")\n",
    "\n",
    "# acquire\n",
    "import env"
   ]
  },
  {
   "cell_type": "code",
   "execution_count": 2,
   "id": "709d5e0a-f8e1-4527-b788-13dba4f1670b",
   "metadata": {},
   "outputs": [
    {
     "data": {
      "text/html": [
       "<div>\n",
       "<style scoped>\n",
       "    .dataframe tbody tr th:only-of-type {\n",
       "        vertical-align: middle;\n",
       "    }\n",
       "\n",
       "    .dataframe tbody tr th {\n",
       "        vertical-align: top;\n",
       "    }\n",
       "\n",
       "    .dataframe thead th {\n",
       "        text-align: right;\n",
       "    }\n",
       "</style>\n",
       "<table border=\"1\" class=\"dataframe\">\n",
       "  <thead>\n",
       "    <tr style=\"text-align: right;\">\n",
       "      <th></th>\n",
       "      <th>bedroomcnt</th>\n",
       "      <th>bathroomcnt</th>\n",
       "      <th>calculatedfinishedsquarefeet</th>\n",
       "      <th>taxvaluedollarcnt</th>\n",
       "      <th>yearbuilt</th>\n",
       "      <th>taxamount</th>\n",
       "      <th>fips</th>\n",
       "    </tr>\n",
       "  </thead>\n",
       "  <tbody>\n",
       "    <tr>\n",
       "      <th>0</th>\n",
       "      <td>0.0</td>\n",
       "      <td>0.0</td>\n",
       "      <td>NaN</td>\n",
       "      <td>9.0</td>\n",
       "      <td>NaN</td>\n",
       "      <td>NaN</td>\n",
       "      <td>6037.0</td>\n",
       "    </tr>\n",
       "    <tr>\n",
       "      <th>1</th>\n",
       "      <td>0.0</td>\n",
       "      <td>0.0</td>\n",
       "      <td>NaN</td>\n",
       "      <td>27516.0</td>\n",
       "      <td>NaN</td>\n",
       "      <td>NaN</td>\n",
       "      <td>6037.0</td>\n",
       "    </tr>\n",
       "    <tr>\n",
       "      <th>2</th>\n",
       "      <td>0.0</td>\n",
       "      <td>0.0</td>\n",
       "      <td>73026.0</td>\n",
       "      <td>1434941.0</td>\n",
       "      <td>1959.0</td>\n",
       "      <td>20800.37</td>\n",
       "      <td>6037.0</td>\n",
       "    </tr>\n",
       "    <tr>\n",
       "      <th>3</th>\n",
       "      <td>0.0</td>\n",
       "      <td>0.0</td>\n",
       "      <td>5068.0</td>\n",
       "      <td>1174475.0</td>\n",
       "      <td>1948.0</td>\n",
       "      <td>14557.57</td>\n",
       "      <td>6037.0</td>\n",
       "    </tr>\n",
       "    <tr>\n",
       "      <th>4</th>\n",
       "      <td>0.0</td>\n",
       "      <td>0.0</td>\n",
       "      <td>1776.0</td>\n",
       "      <td>440101.0</td>\n",
       "      <td>1947.0</td>\n",
       "      <td>5725.17</td>\n",
       "      <td>6037.0</td>\n",
       "    </tr>\n",
       "    <tr>\n",
       "      <th>...</th>\n",
       "      <td>...</td>\n",
       "      <td>...</td>\n",
       "      <td>...</td>\n",
       "      <td>...</td>\n",
       "      <td>...</td>\n",
       "      <td>...</td>\n",
       "      <td>...</td>\n",
       "    </tr>\n",
       "    <tr>\n",
       "      <th>2985212</th>\n",
       "      <td>NaN</td>\n",
       "      <td>NaN</td>\n",
       "      <td>NaN</td>\n",
       "      <td>NaN</td>\n",
       "      <td>NaN</td>\n",
       "      <td>NaN</td>\n",
       "      <td>NaN</td>\n",
       "    </tr>\n",
       "    <tr>\n",
       "      <th>2985213</th>\n",
       "      <td>NaN</td>\n",
       "      <td>NaN</td>\n",
       "      <td>NaN</td>\n",
       "      <td>NaN</td>\n",
       "      <td>NaN</td>\n",
       "      <td>NaN</td>\n",
       "      <td>NaN</td>\n",
       "    </tr>\n",
       "    <tr>\n",
       "      <th>2985214</th>\n",
       "      <td>NaN</td>\n",
       "      <td>NaN</td>\n",
       "      <td>NaN</td>\n",
       "      <td>NaN</td>\n",
       "      <td>NaN</td>\n",
       "      <td>NaN</td>\n",
       "      <td>NaN</td>\n",
       "    </tr>\n",
       "    <tr>\n",
       "      <th>2985215</th>\n",
       "      <td>NaN</td>\n",
       "      <td>NaN</td>\n",
       "      <td>NaN</td>\n",
       "      <td>NaN</td>\n",
       "      <td>NaN</td>\n",
       "      <td>NaN</td>\n",
       "      <td>NaN</td>\n",
       "    </tr>\n",
       "    <tr>\n",
       "      <th>2985216</th>\n",
       "      <td>NaN</td>\n",
       "      <td>NaN</td>\n",
       "      <td>NaN</td>\n",
       "      <td>NaN</td>\n",
       "      <td>NaN</td>\n",
       "      <td>NaN</td>\n",
       "      <td>NaN</td>\n",
       "    </tr>\n",
       "  </tbody>\n",
       "</table>\n",
       "<p>2985217 rows × 7 columns</p>\n",
       "</div>"
      ],
      "text/plain": [
       "         bedroomcnt  bathroomcnt  calculatedfinishedsquarefeet  \\\n",
       "0               0.0          0.0                           NaN   \n",
       "1               0.0          0.0                           NaN   \n",
       "2               0.0          0.0                       73026.0   \n",
       "3               0.0          0.0                        5068.0   \n",
       "4               0.0          0.0                        1776.0   \n",
       "...             ...          ...                           ...   \n",
       "2985212         NaN          NaN                           NaN   \n",
       "2985213         NaN          NaN                           NaN   \n",
       "2985214         NaN          NaN                           NaN   \n",
       "2985215         NaN          NaN                           NaN   \n",
       "2985216         NaN          NaN                           NaN   \n",
       "\n",
       "         taxvaluedollarcnt  yearbuilt  taxamount    fips  \n",
       "0                      9.0        NaN        NaN  6037.0  \n",
       "1                  27516.0        NaN        NaN  6037.0  \n",
       "2                1434941.0     1959.0   20800.37  6037.0  \n",
       "3                1174475.0     1948.0   14557.57  6037.0  \n",
       "4                 440101.0     1947.0    5725.17  6037.0  \n",
       "...                    ...        ...        ...     ...  \n",
       "2985212                NaN        NaN        NaN     NaN  \n",
       "2985213                NaN        NaN        NaN     NaN  \n",
       "2985214                NaN        NaN        NaN     NaN  \n",
       "2985215                NaN        NaN        NaN     NaN  \n",
       "2985216                NaN        NaN        NaN     NaN  \n",
       "\n",
       "[2985217 rows x 7 columns]"
      ]
     },
     "execution_count": 2,
     "metadata": {},
     "output_type": "execute_result"
    }
   ],
   "source": [
    "zillow_df = wrangle.get_zillow_data()\n",
    "zillow_df"
   ]
  },
  {
   "cell_type": "code",
   "execution_count": 3,
   "id": "19450594-9a5c-44dc-837a-024dd688a4ca",
   "metadata": {},
   "outputs": [
    {
     "data": {
      "text/plain": [
       "bedroomcnt                       2945\n",
       "bathroomcnt                      2957\n",
       "calculatedfinishedsquarefeet    45097\n",
       "taxvaluedollarcnt               34266\n",
       "yearbuilt                       47833\n",
       "taxamount                       22752\n",
       "fips                             2932\n",
       "dtype: int64"
      ]
     },
     "execution_count": 3,
     "metadata": {},
     "output_type": "execute_result"
    }
   ],
   "source": [
    "pd.isnull(zillow_df).sum()"
   ]
  },
  {
   "cell_type": "code",
   "execution_count": 4,
   "id": "5cbec04f-2d72-4c48-8dec-00a1d002e6b3",
   "metadata": {},
   "outputs": [
    {
     "data": {
      "text/plain": [
       "2985217"
      ]
     },
     "execution_count": 4,
     "metadata": {},
     "output_type": "execute_result"
    }
   ],
   "source": [
    "(zillow_df).shape[0]"
   ]
  },
  {
   "cell_type": "code",
   "execution_count": 5,
   "id": "45f59451-4466-457a-8c8c-4c936122df86",
   "metadata": {},
   "outputs": [
    {
     "data": {
      "text/plain": [
       "bedroomcnt                      2982272\n",
       "bathroomcnt                     2982260\n",
       "calculatedfinishedsquarefeet    2940120\n",
       "taxvaluedollarcnt               2950951\n",
       "yearbuilt                       2937384\n",
       "taxamount                       2962465\n",
       "fips                            2982285\n",
       "dtype: int64"
      ]
     },
     "execution_count": 5,
     "metadata": {},
     "output_type": "execute_result"
    }
   ],
   "source": [
    "(zillow_df).shape[0] - pd.isnull(zillow_df).sum()"
   ]
  },
  {
   "cell_type": "code",
   "execution_count": 6,
   "id": "6644af43-0e25-453c-ab80-c3f518fec3db",
   "metadata": {},
   "outputs": [
    {
     "data": {
      "text/plain": [
       "bedroomcnt                      0.098653\n",
       "bathroomcnt                     0.099055\n",
       "calculatedfinishedsquarefeet    1.510677\n",
       "taxvaluedollarcnt               1.147856\n",
       "yearbuilt                       1.602329\n",
       "taxamount                       0.762156\n",
       "fips                            0.098217\n",
       "dtype: float64"
      ]
     },
     "execution_count": 6,
     "metadata": {},
     "output_type": "execute_result"
    }
   ],
   "source": [
    "# Should be percentage of nulls but lecture had a different answer\n",
    "(pd.isnull(zillow_df).sum() / (zillow_df).shape[0])*100"
   ]
  },
  {
   "cell_type": "code",
   "execution_count": 7,
   "id": "eca5e596-7b34-4e3c-abab-8057f90fe615",
   "metadata": {},
   "outputs": [
    {
     "data": {
      "text/plain": [
       "bedroomcnt                      0.000987\n",
       "bathroomcnt                     0.000991\n",
       "calculatedfinishedsquarefeet    0.015107\n",
       "taxvaluedollarcnt               0.011479\n",
       "yearbuilt                       0.016023\n",
       "taxamount                       0.007622\n",
       "fips                            0.000982\n",
       "dtype: float64"
      ]
     },
     "execution_count": 7,
     "metadata": {},
     "output_type": "execute_result"
    }
   ],
   "source": [
    "# This is the method Ryan used which has different results, well at least in the lesson, hmm...\n",
    "zillow_df.isna().mean()"
   ]
  },
  {
   "cell_type": "code",
   "execution_count": 8,
   "id": "28a5705b-1abb-4fc5-82f9-1f0684184c4c",
   "metadata": {},
   "outputs": [
    {
     "data": {
      "text/plain": [
       "0.9721"
      ]
     },
     "execution_count": 8,
     "metadata": {},
     "output_type": "execute_result"
    }
   ],
   "source": [
    "# percentage of data left if we dropped all rows with any null values; lecture different number\n",
    "round(zillow_df.dropna().shape[0] / zillow_df.shape[0], 4)"
   ]
  },
  {
   "cell_type": "code",
   "execution_count": 9,
   "id": "e2ac3448-7ae1-4234-b187-2766a27312cc",
   "metadata": {},
   "outputs": [],
   "source": [
    "# drops the rows with any null values and returns a new null-free df\n",
    "zillow_df = zillow_df.dropna()"
   ]
  },
  {
   "cell_type": "code",
   "execution_count": 10,
   "id": "8e35bd26-9179-4a93-b2ed-28eceb9b10a7",
   "metadata": {},
   "outputs": [
    {
     "data": {
      "text/plain": [
       "2901918"
      ]
     },
     "execution_count": 10,
     "metadata": {},
     "output_type": "execute_result"
    }
   ],
   "source": [
    "# null free df; different from lecture\n",
    "zillow_df.shape[0]"
   ]
  },
  {
   "cell_type": "code",
   "execution_count": 11,
   "id": "6196e84d-cd56-44ba-a66c-ff2d5456871c",
   "metadata": {},
   "outputs": [
    {
     "data": {
      "text/plain": [
       "['bedroomcnt',\n",
       " 'bathroomcnt',\n",
       " 'calculatedfinishedsquarefeet',\n",
       " 'taxvaluedollarcnt',\n",
       " 'yearbuilt',\n",
       " 'taxamount',\n",
       " 'fips']"
      ]
     },
     "execution_count": 11,
     "metadata": {},
     "output_type": "execute_result"
    }
   ],
   "source": [
    "zillow_df.columns.tolist()"
   ]
  },
  {
   "cell_type": "code",
   "execution_count": 12,
   "id": "ca1cc048-aac8-41c5-a825-466b7fcbe1f1",
   "metadata": {},
   "outputs": [
    {
     "name": "stdout",
     "output_type": "stream",
     "text": [
      "bedroomcnt\n",
      "3.0     1170717\n",
      "4.0      730024\n",
      "2.0      604965\n",
      "5.0      182200\n",
      "1.0       86501\n",
      "6.0       48534\n",
      "0.0       45547\n",
      "8.0       13283\n",
      "7.0       12656\n",
      "9.0        4218\n",
      "10.0       1670\n",
      "12.0        941\n",
      "11.0        415\n",
      "13.0         83\n",
      "14.0         64\n",
      "16.0         47\n",
      "15.0         23\n",
      "17.0         11\n",
      "18.0          9\n",
      "20.0          6\n",
      "25.0          1\n",
      "23.0          1\n",
      "19.0          1\n",
      "21.0          1\n",
      "Name: bedroomcnt, dtype: int64\n",
      "-----------------\n",
      "bathroomcnt\n",
      "2.00     1217537\n",
      "3.00      631906\n",
      "1.00      497185\n",
      "2.50      208514\n",
      "4.00      133100\n",
      "1.50       45667\n",
      "0.00       40405\n",
      "5.00       38362\n",
      "3.50       31769\n",
      "4.50       19832\n",
      "6.00       16319\n",
      "5.50        6259\n",
      "7.00        6186\n",
      "8.00        4498\n",
      "6.50        1349\n",
      "9.00        1326\n",
      "10.00        489\n",
      "7.50         383\n",
      "12.00        264\n",
      "11.00        198\n",
      "8.50         111\n",
      "13.00         53\n",
      "9.50          50\n",
      "14.00         39\n",
      "16.00         23\n",
      "15.00         20\n",
      "0.50          16\n",
      "10.50         14\n",
      "18.00         12\n",
      "17.00          8\n",
      "20.00          7\n",
      "1.75           4\n",
      "19.00          3\n",
      "12.50          3\n",
      "11.50          3\n",
      "19.50          1\n",
      "14.50          1\n",
      "32.00          1\n",
      "31.00          1\n",
      "Name: bathroomcnt, dtype: int64\n",
      "-----------------\n",
      "calculatedfinishedsquarefeet\n",
      "1200.0     6582\n",
      "1440.0     5708\n",
      "1120.0     5531\n",
      "1080.0     5326\n",
      "1400.0     4703\n",
      "           ... \n",
      "9538.0        1\n",
      "9777.0        1\n",
      "9610.0        1\n",
      "9112.0        1\n",
      "24920.0       1\n",
      "Name: calculatedfinishedsquarefeet, Length: 12550, dtype: int64\n",
      "-----------------\n",
      "taxvaluedollarcnt\n",
      "450000.0    1441\n",
      "400000.0    1333\n",
      "500000.0    1275\n",
      "480000.0    1128\n",
      "420000.0    1114\n",
      "            ... \n",
      "625050.0       1\n",
      "197696.0       1\n",
      "33316.0        1\n",
      "341635.0       1\n",
      "594022.0       1\n",
      "Name: taxvaluedollarcnt, Length: 645664, dtype: int64\n",
      "-----------------\n",
      "yearbuilt\n",
      "1955.0    88441\n",
      "1950.0    75990\n",
      "1954.0    73161\n",
      "1953.0    66958\n",
      "1956.0    65602\n",
      "          ...  \n",
      "1813.0        1\n",
      "1860.0        1\n",
      "1829.0        1\n",
      "1863.0        1\n",
      "1861.0        1\n",
      "Name: yearbuilt, Length: 183, dtype: int64\n",
      "-----------------\n",
      "taxamount\n",
      "345.72      173\n",
      "1844.16     124\n",
      "1045.88     111\n",
      "1481.24     101\n",
      "2264.43      89\n",
      "           ... \n",
      "8077.87       1\n",
      "548.49        1\n",
      "7418.63       1\n",
      "7992.67       1\n",
      "15546.14      1\n",
      "Name: taxamount, Length: 1027179, dtype: int64\n",
      "-----------------\n",
      "fips\n",
      "6037.0    1970806\n",
      "6059.0     717971\n",
      "6111.0     213141\n",
      "Name: fips, dtype: int64\n",
      "-----------------\n"
     ]
    }
   ],
   "source": [
    "# lists number of results for each of the values in each column; different from lecture\n",
    "for column in zillow_df.columns:\n",
    "    print(column)\n",
    "    print(zillow_df[column].value_counts())\n",
    "    print(\"-----------------\")"
   ]
  },
  {
   "cell_type": "markdown",
   "id": "1a5b11c8-5831-441d-9a00-bddf1953bfbc",
   "metadata": {},
   "source": [
    "Based on these results we can change bedrooms to an integer since they're all whole numbers, same with calculatedfinishedsquarefeet, taxvaluedollarcnt, and yearbuilt\n",
    "However the bathrooms include half baths which we'd like to keep so they'll stay as floats\n",
    "FIPS can also be changed to an integer because this number is categorical representing county zip codes"
   ]
  },
  {
   "cell_type": "code",
   "execution_count": 13,
   "id": "eecf7d0a-bef7-4591-b389-aeb6ce15a36f",
   "metadata": {},
   "outputs": [
    {
     "data": {
      "text/plain": [
       "1.0"
      ]
     },
     "execution_count": 13,
     "metadata": {},
     "output_type": "execute_result"
    }
   ],
   "source": [
    "# We can use the following code to figure out that 100% of calculatedfinishedsquarefeet can be converted to int w/o data loss\n",
    "(zillow_df.calculatedfinishedsquarefeet == zillow_df.calculatedfinishedsquarefeet.astype(int)).mean()"
   ]
  },
  {
   "cell_type": "code",
   "execution_count": 14,
   "id": "4d6fe116-5dc5-4442-8c9d-a52dc61ee3b2",
   "metadata": {},
   "outputs": [
    {
     "data": {
      "text/plain": [
       "1.0"
      ]
     },
     "execution_count": 14,
     "metadata": {},
     "output_type": "execute_result"
    }
   ],
   "source": [
    "# Same with taxvaluedollarcnt. 100% of taxvaluedollarcnt can lose the deicimal and be OK\n",
    "(zillow_df.taxvaluedollarcnt == zillow_df.taxvaluedollarcnt.astype(int)).mean()"
   ]
  },
  {
   "cell_type": "code",
   "execution_count": 15,
   "id": "60347f41-d916-4409-b312-d0b95cb006ad",
   "metadata": {},
   "outputs": [
    {
     "data": {
      "text/plain": [
       "0.8918039724072148"
      ]
     },
     "execution_count": 15,
     "metadata": {},
     "output_type": "execute_result"
    }
   ],
   "source": [
    "# This is not the case for out bathrooms\n",
    "(zillow_df.bathroomcnt == zillow_df.bathroomcnt.astype(int)).mean()"
   ]
  },
  {
   "cell_type": "code",
   "execution_count": 16,
   "id": "c80cc3c5-a231-4f94-9d9e-a879f744e0b6",
   "metadata": {},
   "outputs": [
    {
     "data": {
      "text/plain": [
       "1.0"
      ]
     },
     "execution_count": 16,
     "metadata": {},
     "output_type": "execute_result"
    }
   ],
   "source": [
    "# But is also the case for the square feet for our homes\n",
    "(zillow_df.calculatedfinishedsquarefeet == zillow_df.calculatedfinishedsquarefeet.astype(int)).mean()"
   ]
  },
  {
   "cell_type": "code",
   "execution_count": 17,
   "id": "5656a50c-77b4-48de-8391-01a6fc58848f",
   "metadata": {},
   "outputs": [],
   "source": [
    "# converts our fips, yearbuilt, bedrooms, taxvaluedollarcnt, to integers\n",
    "zillow_df[\"fips\"] = zillow_df[\"fips\"].astype(int)\n",
    "zillow_df[\"yearbuilt\"] = zillow_df[\"yearbuilt\"].astype(int)\n",
    "zillow_df[\"bedroomcnt\"] = zillow_df[\"bedroomcnt\"].astype(int)\n",
    "zillow_df[\"taxvaluedollarcnt\"] = zillow_df[\"taxvaluedollarcnt\"].astype(int)\n",
    "zillow_df[\"calculatedfinishedsquarefeet\"] = zillow_df[\"calculatedfinishedsquarefeet\"].astype(int)"
   ]
  },
  {
   "cell_type": "code",
   "execution_count": 18,
   "id": "11f7693c-df01-43ab-80b5-2746ad5ef9e2",
   "metadata": {},
   "outputs": [
    {
     "name": "stdout",
     "output_type": "stream",
     "text": [
      "bedroomcnt                      2.500000e+01\n",
      "bathroomcnt                     3.200000e+01\n",
      "calculatedfinishedsquarefeet    9.525760e+05\n",
      "taxvaluedollarcnt               2.870985e+08\n",
      "yearbuilt                       2.016000e+03\n",
      "taxamount                       3.458861e+06\n",
      "fips                            6.111000e+03\n",
      "dtype: float64\n",
      "bedroomcnt                         0.00\n",
      "bathroomcnt                        0.00\n",
      "calculatedfinishedsquarefeet       1.00\n",
      "taxvaluedollarcnt                 22.00\n",
      "yearbuilt                       1801.00\n",
      "taxamount                          5.04\n",
      "fips                            6037.00\n",
      "dtype: float64\n"
     ]
    },
    {
     "data": {
      "text/plain": [
       "(None,\n",
       " None,\n",
       " bedroomcnt                           3.170278\n",
       " bathroomcnt                          2.271617\n",
       " calculatedfinishedsquarefeet      1836.479432\n",
       " taxvaluedollarcnt               444828.167789\n",
       " yearbuilt                         1964.258716\n",
       " taxamount                         5456.144079\n",
       " fips                              6047.878252\n",
       " dtype: float64,\n",
       "    bedroomcnt  bathroomcnt  calculatedfinishedsquarefeet  taxvaluedollarcnt  \\\n",
       " 0           3          2.0                          1200             450000   \n",
       " \n",
       "    yearbuilt  taxamount  fips  \n",
       " 0       1955     345.72  6037  )"
      ]
     },
     "execution_count": 18,
     "metadata": {},
     "output_type": "execute_result"
    }
   ],
   "source": [
    "print(zillow_df.max()), print(zillow_df.min()), zillow_df.mean(), zillow_df.mode()"
   ]
  },
  {
   "cell_type": "code",
   "execution_count": 19,
   "id": "6c3ade87-502d-4595-84f3-10a65ff1ed1c",
   "metadata": {},
   "outputs": [
    {
     "data": {
      "text/html": [
       "<div>\n",
       "<style scoped>\n",
       "    .dataframe tbody tr th:only-of-type {\n",
       "        vertical-align: middle;\n",
       "    }\n",
       "\n",
       "    .dataframe tbody tr th {\n",
       "        vertical-align: top;\n",
       "    }\n",
       "\n",
       "    .dataframe thead th {\n",
       "        text-align: right;\n",
       "    }\n",
       "</style>\n",
       "<table border=\"1\" class=\"dataframe\">\n",
       "  <thead>\n",
       "    <tr style=\"text-align: right;\">\n",
       "      <th></th>\n",
       "      <th>bedroomcnt</th>\n",
       "      <th>bathroomcnt</th>\n",
       "      <th>calculatedfinishedsquarefeet</th>\n",
       "      <th>taxvaluedollarcnt</th>\n",
       "      <th>yearbuilt</th>\n",
       "      <th>taxamount</th>\n",
       "      <th>fips</th>\n",
       "    </tr>\n",
       "  </thead>\n",
       "  <tbody>\n",
       "    <tr>\n",
       "      <th>count</th>\n",
       "      <td>2901918.0</td>\n",
       "      <td>2901918.0</td>\n",
       "      <td>2901918.0</td>\n",
       "      <td>2901918.0</td>\n",
       "      <td>2901918.0</td>\n",
       "      <td>2901918.0</td>\n",
       "      <td>2901918.0</td>\n",
       "    </tr>\n",
       "    <tr>\n",
       "      <th>mean</th>\n",
       "      <td>3.2</td>\n",
       "      <td>2.3</td>\n",
       "      <td>1836.5</td>\n",
       "      <td>444828.2</td>\n",
       "      <td>1964.3</td>\n",
       "      <td>5456.1</td>\n",
       "      <td>6047.9</td>\n",
       "    </tr>\n",
       "    <tr>\n",
       "      <th>std</th>\n",
       "      <td>1.2</td>\n",
       "      <td>1.0</td>\n",
       "      <td>1935.6</td>\n",
       "      <td>730804.5</td>\n",
       "      <td>23.6</td>\n",
       "      <td>8740.2</td>\n",
       "      <td>20.1</td>\n",
       "    </tr>\n",
       "    <tr>\n",
       "      <th>min</th>\n",
       "      <td>0.0</td>\n",
       "      <td>0.0</td>\n",
       "      <td>1.0</td>\n",
       "      <td>22.0</td>\n",
       "      <td>1801.0</td>\n",
       "      <td>5.0</td>\n",
       "      <td>6037.0</td>\n",
       "    </tr>\n",
       "    <tr>\n",
       "      <th>25%</th>\n",
       "      <td>2.0</td>\n",
       "      <td>2.0</td>\n",
       "      <td>1218.0</td>\n",
       "      <td>192600.0</td>\n",
       "      <td>1950.0</td>\n",
       "      <td>2543.7</td>\n",
       "      <td>6037.0</td>\n",
       "    </tr>\n",
       "    <tr>\n",
       "      <th>50%</th>\n",
       "      <td>3.0</td>\n",
       "      <td>2.0</td>\n",
       "      <td>1581.0</td>\n",
       "      <td>324450.0</td>\n",
       "      <td>1963.0</td>\n",
       "      <td>4059.5</td>\n",
       "      <td>6037.0</td>\n",
       "    </tr>\n",
       "    <tr>\n",
       "      <th>75%</th>\n",
       "      <td>4.0</td>\n",
       "      <td>3.0</td>\n",
       "      <td>2148.0</td>\n",
       "      <td>516903.0</td>\n",
       "      <td>1981.0</td>\n",
       "      <td>6277.9</td>\n",
       "      <td>6059.0</td>\n",
       "    </tr>\n",
       "    <tr>\n",
       "      <th>max</th>\n",
       "      <td>25.0</td>\n",
       "      <td>32.0</td>\n",
       "      <td>952576.0</td>\n",
       "      <td>287098486.0</td>\n",
       "      <td>2016.0</td>\n",
       "      <td>3458861.1</td>\n",
       "      <td>6111.0</td>\n",
       "    </tr>\n",
       "  </tbody>\n",
       "</table>\n",
       "</div>"
      ],
      "text/plain": [
       "       bedroomcnt  bathroomcnt  calculatedfinishedsquarefeet  \\\n",
       "count   2901918.0    2901918.0                     2901918.0   \n",
       "mean          3.2          2.3                        1836.5   \n",
       "std           1.2          1.0                        1935.6   \n",
       "min           0.0          0.0                           1.0   \n",
       "25%           2.0          2.0                        1218.0   \n",
       "50%           3.0          2.0                        1581.0   \n",
       "75%           4.0          3.0                        2148.0   \n",
       "max          25.0         32.0                      952576.0   \n",
       "\n",
       "       taxvaluedollarcnt  yearbuilt  taxamount       fips  \n",
       "count          2901918.0  2901918.0  2901918.0  2901918.0  \n",
       "mean            444828.2     1964.3     5456.1     6047.9  \n",
       "std             730804.5       23.6     8740.2       20.1  \n",
       "min                 22.0     1801.0        5.0     6037.0  \n",
       "25%             192600.0     1950.0     2543.7     6037.0  \n",
       "50%             324450.0     1963.0     4059.5     6037.0  \n",
       "75%             516903.0     1981.0     6277.9     6059.0  \n",
       "max          287098486.0     2016.0  3458861.1     6111.0  "
      ]
     },
     "execution_count": 19,
     "metadata": {},
     "output_type": "execute_result"
    }
   ],
   "source": [
    "zillow_df.describe().round(1)"
   ]
  },
  {
   "cell_type": "code",
   "execution_count": 20,
   "id": "07abfe6e-f262-4765-b4d9-58001f6aa41a",
   "metadata": {},
   "outputs": [
    {
     "data": {
      "text/plain": [
       "bedroomcnt                        int64\n",
       "bathroomcnt                     float64\n",
       "calculatedfinishedsquarefeet      int64\n",
       "taxvaluedollarcnt                 int64\n",
       "yearbuilt                         int64\n",
       "taxamount                       float64\n",
       "fips                              int64\n",
       "dtype: object"
      ]
     },
     "execution_count": 20,
     "metadata": {},
     "output_type": "execute_result"
    }
   ],
   "source": [
    "zillow_df.dtypes"
   ]
  },
  {
   "cell_type": "code",
   "execution_count": 21,
   "id": "9e10f28c-db02-4984-920c-4beb9e67d864",
   "metadata": {},
   "outputs": [
    {
     "data": {
      "text/html": [
       "<div>\n",
       "<style scoped>\n",
       "    .dataframe tbody tr th:only-of-type {\n",
       "        vertical-align: middle;\n",
       "    }\n",
       "\n",
       "    .dataframe tbody tr th {\n",
       "        vertical-align: top;\n",
       "    }\n",
       "\n",
       "    .dataframe thead th {\n",
       "        text-align: right;\n",
       "    }\n",
       "</style>\n",
       "<table border=\"1\" class=\"dataframe\">\n",
       "  <thead>\n",
       "    <tr style=\"text-align: right;\">\n",
       "      <th></th>\n",
       "      <th>bedroomcnt</th>\n",
       "      <th>bathroomcnt</th>\n",
       "      <th>calculatedfinishedsquarefeet</th>\n",
       "      <th>taxvaluedollarcnt</th>\n",
       "      <th>yearbuilt</th>\n",
       "      <th>taxamount</th>\n",
       "      <th>fips</th>\n",
       "    </tr>\n",
       "  </thead>\n",
       "  <tbody>\n",
       "    <tr>\n",
       "      <th>2086451</th>\n",
       "      <td>3</td>\n",
       "      <td>2.5</td>\n",
       "      <td>1746</td>\n",
       "      <td>329842</td>\n",
       "      <td>1979</td>\n",
       "      <td>3281.70</td>\n",
       "      <td>6059</td>\n",
       "    </tr>\n",
       "    <tr>\n",
       "      <th>1608617</th>\n",
       "      <td>2</td>\n",
       "      <td>2.0</td>\n",
       "      <td>1503</td>\n",
       "      <td>378681</td>\n",
       "      <td>1980</td>\n",
       "      <td>3779.86</td>\n",
       "      <td>6059</td>\n",
       "    </tr>\n",
       "    <tr>\n",
       "      <th>854792</th>\n",
       "      <td>4</td>\n",
       "      <td>4.0</td>\n",
       "      <td>2469</td>\n",
       "      <td>3464540</td>\n",
       "      <td>1950</td>\n",
       "      <td>41401.23</td>\n",
       "      <td>6037</td>\n",
       "    </tr>\n",
       "    <tr>\n",
       "      <th>2066831</th>\n",
       "      <td>2</td>\n",
       "      <td>1.0</td>\n",
       "      <td>1507</td>\n",
       "      <td>78173</td>\n",
       "      <td>1952</td>\n",
       "      <td>1477.34</td>\n",
       "      <td>6037</td>\n",
       "    </tr>\n",
       "    <tr>\n",
       "      <th>2508263</th>\n",
       "      <td>2</td>\n",
       "      <td>2.0</td>\n",
       "      <td>1150</td>\n",
       "      <td>54832</td>\n",
       "      <td>1966</td>\n",
       "      <td>1139.31</td>\n",
       "      <td>6037</td>\n",
       "    </tr>\n",
       "    <tr>\n",
       "      <th>...</th>\n",
       "      <td>...</td>\n",
       "      <td>...</td>\n",
       "      <td>...</td>\n",
       "      <td>...</td>\n",
       "      <td>...</td>\n",
       "      <td>...</td>\n",
       "      <td>...</td>\n",
       "    </tr>\n",
       "    <tr>\n",
       "      <th>2578047</th>\n",
       "      <td>1</td>\n",
       "      <td>1.0</td>\n",
       "      <td>678</td>\n",
       "      <td>294384</td>\n",
       "      <td>1990</td>\n",
       "      <td>3804.80</td>\n",
       "      <td>6059</td>\n",
       "    </tr>\n",
       "    <tr>\n",
       "      <th>972773</th>\n",
       "      <td>4</td>\n",
       "      <td>2.0</td>\n",
       "      <td>1392</td>\n",
       "      <td>173600</td>\n",
       "      <td>1955</td>\n",
       "      <td>2840.54</td>\n",
       "      <td>6037</td>\n",
       "    </tr>\n",
       "    <tr>\n",
       "      <th>2204227</th>\n",
       "      <td>3</td>\n",
       "      <td>2.0</td>\n",
       "      <td>1370</td>\n",
       "      <td>339532</td>\n",
       "      <td>1977</td>\n",
       "      <td>3854.74</td>\n",
       "      <td>6059</td>\n",
       "    </tr>\n",
       "    <tr>\n",
       "      <th>994295</th>\n",
       "      <td>2</td>\n",
       "      <td>3.0</td>\n",
       "      <td>1204</td>\n",
       "      <td>305000</td>\n",
       "      <td>1979</td>\n",
       "      <td>3747.38</td>\n",
       "      <td>6037</td>\n",
       "    </tr>\n",
       "    <tr>\n",
       "      <th>2977560</th>\n",
       "      <td>2</td>\n",
       "      <td>2.0</td>\n",
       "      <td>1280</td>\n",
       "      <td>394451</td>\n",
       "      <td>1986</td>\n",
       "      <td>4674.76</td>\n",
       "      <td>6037</td>\n",
       "    </tr>\n",
       "  </tbody>\n",
       "</table>\n",
       "<p>1632328 rows × 7 columns</p>\n",
       "</div>"
      ],
      "text/plain": [
       "         bedroomcnt  bathroomcnt  calculatedfinishedsquarefeet  \\\n",
       "2086451           3          2.5                          1746   \n",
       "1608617           2          2.0                          1503   \n",
       "854792            4          4.0                          2469   \n",
       "2066831           2          1.0                          1507   \n",
       "2508263           2          2.0                          1150   \n",
       "...             ...          ...                           ...   \n",
       "2578047           1          1.0                           678   \n",
       "972773            4          2.0                          1392   \n",
       "2204227           3          2.0                          1370   \n",
       "994295            2          3.0                          1204   \n",
       "2977560           2          2.0                          1280   \n",
       "\n",
       "         taxvaluedollarcnt  yearbuilt  taxamount  fips  \n",
       "2086451             329842       1979    3281.70  6059  \n",
       "1608617             378681       1980    3779.86  6059  \n",
       "854792             3464540       1950   41401.23  6037  \n",
       "2066831              78173       1952    1477.34  6037  \n",
       "2508263              54832       1966    1139.31  6037  \n",
       "...                    ...        ...        ...   ...  \n",
       "2578047             294384       1990    3804.80  6059  \n",
       "972773              173600       1955    2840.54  6037  \n",
       "2204227             339532       1977    3854.74  6059  \n",
       "994295              305000       1979    3747.38  6037  \n",
       "2977560             394451       1986    4674.76  6037  \n",
       "\n",
       "[1632328 rows x 7 columns]"
      ]
     },
     "execution_count": 21,
     "metadata": {},
     "output_type": "execute_result"
    }
   ],
   "source": [
    "train, validate, test = wrangle.wrangle_zillow()\n",
    "train"
   ]
  },
  {
   "cell_type": "code",
   "execution_count": 22,
   "id": "f1b3902a-4d6c-47ea-bf16-624d1204e0a1",
   "metadata": {},
   "outputs": [
    {
     "data": {
      "text/plain": [
       "(1632328, 7)"
      ]
     },
     "execution_count": 22,
     "metadata": {},
     "output_type": "execute_result"
    }
   ],
   "source": [
    "train.shape"
   ]
  },
  {
   "cell_type": "markdown",
   "id": "c69ef1fc-8539-4578-86ab-e9c2247d9c76",
   "metadata": {},
   "source": [
    "## Exploration"
   ]
  },
  {
   "cell_type": "markdown",
   "id": "3eb93059-419c-4e33-abc5-e1547b3caae0",
   "metadata": {},
   "source": [
    "1. As with encoded vs. unencoded data, we recommend exploring un-scaled data in your EDA process."
   ]
  },
  {
   "cell_type": "markdown",
   "id": "683ca351-2c79-4099-8bce-85e9a621efd4",
   "metadata": {},
   "source": [
    "2. Make sure to perform a train, validate, test split before and use only your train dataset to explore the relationships between independent variables with other independent variables or independent variables with your target variable."
   ]
  },
  {
   "cell_type": "markdown",
   "id": "1eb6007f-1a17-4c5b-86a2-f24c2f599174",
   "metadata": {},
   "source": [
    "3. Write a function named `plot_variable_pairs` that accepts a dataframe as input and plots all of the pairwise relationships along with the regression line for each pair."
   ]
  },
  {
   "cell_type": "markdown",
   "id": "4a8068fe-da8b-452a-ab46-6ae01bbf9199",
   "metadata": {},
   "source": [
    "4. Write a function named `plot_categorical_and_continuous_vars` that accepts your dataframe and the name of the columns that hold the continuous and categorical features and outputs 3 different plots for visualizing a categorical variable and a continuous variable."
   ]
  },
  {
   "cell_type": "markdown",
   "id": "c24ef19d-7d47-4ced-9c84-6be68aa0217a",
   "metadata": {},
   "source": [
    "5. Save the functions you have written to create visualizations in your `explore.py` file. Rewrite your notebook code so that you are using the functions imported from this file."
   ]
  },
  {
   "cell_type": "markdown",
   "id": "4df5e66b-61bc-4bc4-aff5-b5b194eeb76e",
   "metadata": {},
   "source": [
    "6. Use the functions you created above to explore your Zillow train dataset in your `explore.ipynb` notebook."
   ]
  },
  {
   "cell_type": "markdown",
   "id": "980a01f9-7151-4cc9-b477-8f66ee0329f8",
   "metadata": {},
   "source": [
    "7. Come up with some initial hypotheses based on your goal of predicting property value."
   ]
  },
  {
   "cell_type": "markdown",
   "id": "ebd117fa-3e09-4942-869e-c59bbe9d58b1",
   "metadata": {},
   "source": [
    "8. Visualize all combinations of variables in some way."
   ]
  },
  {
   "cell_type": "markdown",
   "id": "bad4e90b-b6ac-467d-b87c-70788613dee1",
   "metadata": {},
   "source": [
    "9. Run the appropriate statistical tests where needed."
   ]
  },
  {
   "cell_type": "markdown",
   "id": "12e92091-4593-406a-ad2e-7498ea9bc64f",
   "metadata": {},
   "source": [
    "10. What independent variables are correlated with the dependent variable, home value?"
   ]
  },
  {
   "cell_type": "markdown",
   "id": "002e9e76-9b69-4565-b341-6baf9dd3575e",
   "metadata": {},
   "source": [
    "11. Which independent variables are correlated with other independent variables (bedrooms, bathrooms, year built, square feet)?"
   ]
  },
  {
   "cell_type": "markdown",
   "id": "351b65ba-98a1-477f-8252-8c7760c0be63",
   "metadata": {},
   "source": [
    "12. Make sure to document your takeaways from visualizations and statistical tests as well as the decisions you make throughout your process."
   ]
  },
  {
   "cell_type": "markdown",
   "id": "619fd015-df33-4da7-a68f-15948e7626ca",
   "metadata": {},
   "source": [
    "13. Explore your dataset with any other visualizations you think will be helpful."
   ]
  },
  {
   "cell_type": "code",
   "execution_count": null,
   "id": "01b1967c-e229-41c8-bb49-e67e7fb34e35",
   "metadata": {},
   "outputs": [],
   "source": []
  }
 ],
 "metadata": {
  "kernelspec": {
   "display_name": "Python 3 (ipykernel)",
   "language": "python",
   "name": "python3"
  },
  "language_info": {
   "codemirror_mode": {
    "name": "ipython",
    "version": 3
   },
   "file_extension": ".py",
   "mimetype": "text/x-python",
   "name": "python",
   "nbconvert_exporter": "python",
   "pygments_lexer": "ipython3",
   "version": "3.9.7"
  }
 },
 "nbformat": 4,
 "nbformat_minor": 5
}
